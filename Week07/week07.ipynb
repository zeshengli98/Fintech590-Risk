{
 "cells": [
  {
   "cell_type": "code",
   "execution_count": 1,
   "id": "cb5d1800",
   "metadata": {},
   "outputs": [
    {
     "name": "stderr",
     "output_type": "stream",
     "text": [
      "/Users/zesheng.li/opt/anaconda3/lib/python3.8/site-packages/statsmodels/tsa/base/tsa_model.py:7: FutureWarning: pandas.Int64Index is deprecated and will be removed from pandas in a future version. Use pandas.Index with the appropriate dtype instead.\n",
      "  from pandas import (to_datetime, Int64Index, DatetimeIndex, Period,\n",
      "/Users/zesheng.li/opt/anaconda3/lib/python3.8/site-packages/statsmodels/tsa/base/tsa_model.py:7: FutureWarning: pandas.Float64Index is deprecated and will be removed from pandas in a future version. Use pandas.Index with the appropriate dtype instead.\n",
      "  from pandas import (to_datetime, Int64Index, DatetimeIndex, Period,\n"
     ]
    }
   ],
   "source": [
    "import numpy as np\n",
    "import pandas as pd\n",
    "import seaborn as sns\n",
    "import matplotlib.pyplot as plt\n",
    "from datetime import *\n",
    "from scipy.stats import norm,kstest,shapiro,t\n",
    "import warnings\n",
    "import seaborn as sns\n",
    "import statsmodels.api as sm\n",
    "import statistics\n",
    "warnings.filterwarnings('ignore')\n",
    "import os\n",
    "lib_path = os.path.join(os.path.abspath('.'), '..')\n",
    "sys.path.append(lib_path)\n",
    "from risk_management import *\n",
    "from tabulate import tabulate\n",
    "# Import plotly express for EF plot\n",
    "import plotly.express as px\n",
    "px.defaults.template = \"plotly_dark\"\n",
    "px.defaults.width = 1000\n",
    "px.defaults.height = 600\n",
    "import scipy.optimize as sco"
   ]
  },
  {
   "cell_type": "markdown",
   "id": "6f3c3cae",
   "metadata": {},
   "source": [
    "## Problem 1\n",
    "\n",
    "- Current Stock Price 165\n",
    "- Strike Price 165 \n",
    "- Current Date 03/13/2022 \n",
    "- Options Expiration Date 04/15/2022 \n",
    "- Risk Free Rate of 0.25% \n",
    "- Continuously Compounding Coupon of 0.53%"
   ]
  },
  {
   "cell_type": "code",
   "execution_count": 2,
   "id": "7ab07aff",
   "metadata": {},
   "outputs": [],
   "source": [
    "\n",
    "current = datetime(2022,3,13)\n",
    "expiration = datetime(2022,4,15)\n",
    "TTM = (expiration-current).days\n",
    "\n",
    "S = 165\n",
    "K = 165\n",
    "T = TTM/365\n",
    "r = 0.25/100\n",
    "q = 0.53/100\n",
    "sigma = 0.2"
   ]
  },
  {
   "cell_type": "code",
   "execution_count": 3,
   "id": "751a50ec",
   "metadata": {},
   "outputs": [],
   "source": [
    "def black_scholes(S,K,T,r,q,sigma,call=True):\n",
    "    d1 = (np.log(S/K)+(r-q+sigma**2/2)*T)/(sigma*np.sqrt(T))\n",
    "    d2 = d1-sigma*np.sqrt(T)\n",
    "    if call==True:\n",
    "        return S*np.exp(-q*T)*norm.cdf(d1)-K*np.exp(-r*T)*norm.cdf(d2)\n",
    "    else:\n",
    "        return K*np.exp(-r*T)*norm.cdf(-d2)-S*np.exp(-q*T)*norm.cdf(-d1)"
   ]
  },
  {
   "cell_type": "markdown",
   "id": "cc2e52e0",
   "metadata": {},
   "source": [
    "- Delta : Measures Impact of a Change in the Price of Underlying ($1)\n",
    "- Gamma: Measures the Rate of Change of Delta (1 Delta)\n",
    "- Theta: Measures Impact of a Change in Time Remaining (1 day)\n",
    "- Vega: Measures Impact of a Change in Volatility (1% vol)\n",
    "- Rho: Measures the impact of changes in Interest rates (1% rate)"
   ]
  },
  {
   "cell_type": "code",
   "execution_count": 4,
   "id": "8527494e",
   "metadata": {},
   "outputs": [
    {
     "data": {
      "text/html": [
       "<div>\n",
       "<style scoped>\n",
       "    .dataframe tbody tr th:only-of-type {\n",
       "        vertical-align: middle;\n",
       "    }\n",
       "\n",
       "    .dataframe tbody tr th {\n",
       "        vertical-align: top;\n",
       "    }\n",
       "\n",
       "    .dataframe thead th {\n",
       "        text-align: right;\n",
       "    }\n",
       "</style>\n",
       "<table border=\"1\" class=\"dataframe\">\n",
       "  <thead>\n",
       "    <tr style=\"text-align: right;\">\n",
       "      <th></th>\n",
       "      <th>GBSM Call</th>\n",
       "      <th>GBSM Put</th>\n",
       "      <th>Finite Diff Call</th>\n",
       "      <th>Finite Diff Put</th>\n",
       "    </tr>\n",
       "  </thead>\n",
       "  <tbody>\n",
       "    <tr>\n",
       "      <th>delta</th>\n",
       "      <td>0.510071</td>\n",
       "      <td>-0.489450</td>\n",
       "      <td>0.510071</td>\n",
       "      <td>-0.489450</td>\n",
       "    </tr>\n",
       "    <tr>\n",
       "      <th>gamma</th>\n",
       "      <td>0.040173</td>\n",
       "      <td>0.040173</td>\n",
       "      <td>0.040173</td>\n",
       "      <td>0.040173</td>\n",
       "    </tr>\n",
       "    <tr>\n",
       "      <th>vega</th>\n",
       "      <td>0.197766</td>\n",
       "      <td>0.197766</td>\n",
       "      <td>0.197766</td>\n",
       "      <td>0.197766</td>\n",
       "    </tr>\n",
       "    <tr>\n",
       "      <th>theta</th>\n",
       "      <td>-0.059256</td>\n",
       "      <td>-0.060571</td>\n",
       "      <td>-0.059257</td>\n",
       "      <td>-0.060522</td>\n",
       "    </tr>\n",
       "    <tr>\n",
       "      <th>rho</th>\n",
       "      <td>0.072533</td>\n",
       "      <td>-0.076611</td>\n",
       "      <td>0.072533</td>\n",
       "      <td>-0.076611</td>\n",
       "    </tr>\n",
       "    <tr>\n",
       "      <th>phi</th>\n",
       "      <td>-0.076091</td>\n",
       "      <td>0.073015</td>\n",
       "      <td>-0.076091</td>\n",
       "      <td>0.073015</td>\n",
       "    </tr>\n",
       "  </tbody>\n",
       "</table>\n",
       "</div>"
      ],
      "text/plain": [
       "       GBSM Call  GBSM Put  Finite Diff Call  Finite Diff Put\n",
       "delta   0.510071 -0.489450          0.510071        -0.489450\n",
       "gamma   0.040173  0.040173          0.040173         0.040173\n",
       "vega    0.197766  0.197766          0.197766         0.197766\n",
       "theta  -0.059256 -0.060571         -0.059257        -0.060522\n",
       "rho     0.072533 -0.076611          0.072533        -0.076611\n",
       "phi    -0.076091  0.073015         -0.076091         0.073015"
      ]
     },
     "execution_count": 4,
     "metadata": {},
     "output_type": "execute_result"
    }
   ],
   "source": [
    "from risk_management.blackscholes import BSOption,FDOption,BinomialTreeOption,BinomialTree\n",
    "bscall = BSOption(S, K, T, r, q, sigma, call=True).Greek\n",
    "bsput = BSOption(S, K, T, r, q, sigma, call=False).Greek\n",
    "fdcall = FDOption(S, K, T, r, q, sigma, call=True).Greek\n",
    "fdput = FDOption(S, K, T, r, q, sigma, call=False).Greek\n",
    "\n",
    "\n",
    "allgreek = pd.concat([bscall,bsput,fdcall,fdput],axis=1)\n",
    "allgreek"
   ]
  },
  {
   "cell_type": "code",
   "execution_count": 5,
   "id": "bfc44cc9",
   "metadata": {},
   "outputs": [
    {
     "data": {
      "text/plain": [
       "3.935701257793056"
      ]
     },
     "execution_count": 5,
     "metadata": {},
     "output_type": "execute_result"
    }
   ],
   "source": [
    "BSOption(S, K, T, r, q, sigma, call=True).Price"
   ]
  },
  {
   "cell_type": "markdown",
   "id": "cb1d1feb",
   "metadata": {},
   "source": [
    "## Conclusion 1.1"
   ]
  },
  {
   "cell_type": "markdown",
   "id": "2be9992e",
   "metadata": {},
   "source": [
    "- Delta : Measures Impact of a Change in the Price of Underlying\n",
    "- Gamma: Measures the Rate of Change of Delta\n",
    "- Theta: Measures Impact of a Change in Time Remaining\n",
    "- Vega: Measures Impact of a Change in Volatility\n",
    "- Rho: Measures the impact of changes in Interest rates\n",
    "- Phi: Measures the impact of dividen rate changes\n",
    "\n",
    "Because black scholes is a stochastic differential equation, the formula can be used to derive the most accurate Greek. But there are a lot of SDE that don't have analytic solutions and if still want to derive the sensitivity of option prices, I have to use the finite difference method. Finite-difference method derivative calculation can also approximate real Greek when the changes of impact is small enough."
   ]
  },
  {
   "cell_type": "markdown",
   "id": "670f2ee1",
   "metadata": {},
   "source": [
    "## Conclusion 1.2\n",
    "The Binomial Tree option price and Greek:"
   ]
  },
  {
   "cell_type": "code",
   "execution_count": 6,
   "id": "686c2855",
   "metadata": {},
   "outputs": [
    {
     "name": "stdout",
     "output_type": "stream",
     "text": [
      "  American Call    American Put\n",
      "---------------  --------------\n",
      "        3.81468         4.44687\n"
     ]
    }
   ],
   "source": [
    "DivTime = (datetime(2022,4,11)-datetime(2022,3,13)).days/365\n",
    "div=[[DivTime],[1]]\n",
    "divCall = BinomialTree('C', 165, 165, r, sigma, T, 2000, 'true', div)\n",
    "divPut = BinomialTree('P', 165, 165, r, sigma, T, 2000, 'true', div)\n",
    "#print(f\"The American call option price is {round(divCall,4)}, and its put option price is {round(divPut,4)}.\" )\n",
    "table = [[divCall, divPut]]\n",
    "header = ['American Call','American Put']\n",
    "print(tabulate(table,headers=header))"
   ]
  },
  {
   "cell_type": "code",
   "execution_count": 7,
   "id": "ba54a0b3",
   "metadata": {},
   "outputs": [
    {
     "data": {
      "text/html": [
       "<div>\n",
       "<style scoped>\n",
       "    .dataframe tbody tr th:only-of-type {\n",
       "        vertical-align: middle;\n",
       "    }\n",
       "\n",
       "    .dataframe tbody tr th {\n",
       "        vertical-align: top;\n",
       "    }\n",
       "\n",
       "    .dataframe thead th {\n",
       "        text-align: right;\n",
       "    }\n",
       "</style>\n",
       "<table border=\"1\" class=\"dataframe\">\n",
       "  <thead>\n",
       "    <tr style=\"text-align: right;\">\n",
       "      <th></th>\n",
       "      <th>Binomial Tree Call</th>\n",
       "      <th>Binomial Tree Put</th>\n",
       "    </tr>\n",
       "  </thead>\n",
       "  <tbody>\n",
       "    <tr>\n",
       "      <th>delta</th>\n",
       "      <td>0.510500</td>\n",
       "      <td>-0.531187</td>\n",
       "    </tr>\n",
       "    <tr>\n",
       "      <th>gamma</th>\n",
       "      <td>0.041285</td>\n",
       "      <td>0.039790</td>\n",
       "    </tr>\n",
       "    <tr>\n",
       "      <th>vega</th>\n",
       "      <td>0.193492</td>\n",
       "      <td>0.196076</td>\n",
       "    </tr>\n",
       "    <tr>\n",
       "      <th>theta</th>\n",
       "      <td>-0.036782</td>\n",
       "      <td>-0.058981</td>\n",
       "    </tr>\n",
       "    <tr>\n",
       "      <th>rho</th>\n",
       "      <td>0.065389</td>\n",
       "      <td>-0.077462</td>\n",
       "    </tr>\n",
       "    <tr>\n",
       "      <th>dividen sensitivity</th>\n",
       "      <td>-0.095796</td>\n",
       "      <td>0.531082</td>\n",
       "    </tr>\n",
       "  </tbody>\n",
       "</table>\n",
       "</div>"
      ],
      "text/plain": [
       "                     Binomial Tree Call  Binomial Tree Put\n",
       "delta                          0.510500          -0.531187\n",
       "gamma                          0.041285           0.039790\n",
       "vega                           0.193492           0.196076\n",
       "theta                         -0.036782          -0.058981\n",
       "rho                            0.065389          -0.077462\n",
       "dividen sensitivity           -0.095796           0.531082"
      ]
     },
     "execution_count": 7,
     "metadata": {},
     "output_type": "execute_result"
    }
   ],
   "source": [
    "BTCall = BinomialTreeOption('C', 165, 165, r, sigma, T, 2000,'true', div).Greek\n",
    "BTPut = BinomialTreeOption('P', 165, 165, r, sigma, T, 2000,'true', div).Greek\n",
    "Greek3Opt = pd.concat([BTCall,BTPut],axis=1)\n",
    "np.around(Greek3Opt,6)"
   ]
  },
  {
   "cell_type": "markdown",
   "id": "2e57d74f",
   "metadata": {},
   "source": [
    "## Conclusion 1.3\n",
    "The sensitivity of put and call to a change of dividend amount shows in the above table. When dividen rises `$`1, the price of American call option will decrease `$`0.0958 and put price will go up `$`0.5311"
   ]
  },
  {
   "cell_type": "markdown",
   "id": "aceab1cf",
   "metadata": {},
   "source": [
    "## Problem2\n",
    "Using the options portfolios from Problem3 last week (named problem2.csv in this week’s repo) and assuming :\n",
    "\n",
    "- American Options\n",
    "- Current Date 02/25/2022 \n",
    "- Current AAPL price is 164.85\n",
    "- Risk Free Rate of 0.25% \n",
    "- Dividend Payment of 1.00 on 3/15/2022\n",
    "\n",
    "Using DailyReturn.csv. Fit a Normal distribution to AAPL returns – assume 0 mean return. Simulate AAPL returns 10 days ahead and apply those returns to the current AAPL price (above). Calculate Mean, VaR and ES."
   ]
  },
  {
   "cell_type": "code",
   "execution_count": 8,
   "id": "15f437f2",
   "metadata": {},
   "outputs": [
    {
     "data": {
      "text/html": [
       "<div>\n",
       "<style scoped>\n",
       "    .dataframe tbody tr th:only-of-type {\n",
       "        vertical-align: middle;\n",
       "    }\n",
       "\n",
       "    .dataframe tbody tr th {\n",
       "        vertical-align: top;\n",
       "    }\n",
       "\n",
       "    .dataframe thead th {\n",
       "        text-align: right;\n",
       "    }\n",
       "</style>\n",
       "<table border=\"1\" class=\"dataframe\">\n",
       "  <thead>\n",
       "    <tr style=\"text-align: right;\">\n",
       "      <th></th>\n",
       "      <th>Portfolio</th>\n",
       "      <th>Type</th>\n",
       "      <th>Underlying</th>\n",
       "      <th>Holding</th>\n",
       "      <th>OptionType</th>\n",
       "      <th>ExpirationDate</th>\n",
       "      <th>Strike</th>\n",
       "      <th>CurrentPrice</th>\n",
       "    </tr>\n",
       "  </thead>\n",
       "  <tbody>\n",
       "    <tr>\n",
       "      <th>0</th>\n",
       "      <td>Straddle</td>\n",
       "      <td>Option</td>\n",
       "      <td>AAPL</td>\n",
       "      <td>1</td>\n",
       "      <td>Call</td>\n",
       "      <td>3/18/2022</td>\n",
       "      <td>165.0</td>\n",
       "      <td>4.50</td>\n",
       "    </tr>\n",
       "    <tr>\n",
       "      <th>1</th>\n",
       "      <td>Straddle</td>\n",
       "      <td>Option</td>\n",
       "      <td>AAPL</td>\n",
       "      <td>1</td>\n",
       "      <td>Put</td>\n",
       "      <td>3/18/2022</td>\n",
       "      <td>165.0</td>\n",
       "      <td>4.40</td>\n",
       "    </tr>\n",
       "    <tr>\n",
       "      <th>2</th>\n",
       "      <td>SynLong</td>\n",
       "      <td>Option</td>\n",
       "      <td>AAPL</td>\n",
       "      <td>1</td>\n",
       "      <td>Call</td>\n",
       "      <td>3/18/2022</td>\n",
       "      <td>165.0</td>\n",
       "      <td>4.50</td>\n",
       "    </tr>\n",
       "    <tr>\n",
       "      <th>3</th>\n",
       "      <td>SynLong</td>\n",
       "      <td>Option</td>\n",
       "      <td>AAPL</td>\n",
       "      <td>-1</td>\n",
       "      <td>Put</td>\n",
       "      <td>3/18/2022</td>\n",
       "      <td>165.0</td>\n",
       "      <td>4.40</td>\n",
       "    </tr>\n",
       "    <tr>\n",
       "      <th>4</th>\n",
       "      <td>CallSpread</td>\n",
       "      <td>Option</td>\n",
       "      <td>AAPL</td>\n",
       "      <td>1</td>\n",
       "      <td>Call</td>\n",
       "      <td>3/18/2022</td>\n",
       "      <td>165.0</td>\n",
       "      <td>4.50</td>\n",
       "    </tr>\n",
       "    <tr>\n",
       "      <th>5</th>\n",
       "      <td>CallSpread</td>\n",
       "      <td>Option</td>\n",
       "      <td>AAPL</td>\n",
       "      <td>-1</td>\n",
       "      <td>Call</td>\n",
       "      <td>3/18/2022</td>\n",
       "      <td>175.0</td>\n",
       "      <td>0.72</td>\n",
       "    </tr>\n",
       "    <tr>\n",
       "      <th>6</th>\n",
       "      <td>PutSpread</td>\n",
       "      <td>Option</td>\n",
       "      <td>AAPL</td>\n",
       "      <td>1</td>\n",
       "      <td>Put</td>\n",
       "      <td>3/18/2022</td>\n",
       "      <td>165.0</td>\n",
       "      <td>4.40</td>\n",
       "    </tr>\n",
       "    <tr>\n",
       "      <th>7</th>\n",
       "      <td>PutSpread</td>\n",
       "      <td>Option</td>\n",
       "      <td>AAPL</td>\n",
       "      <td>-1</td>\n",
       "      <td>Put</td>\n",
       "      <td>3/18/2022</td>\n",
       "      <td>155.0</td>\n",
       "      <td>1.60</td>\n",
       "    </tr>\n",
       "    <tr>\n",
       "      <th>8</th>\n",
       "      <td>Stock</td>\n",
       "      <td>Stock</td>\n",
       "      <td>AAPL</td>\n",
       "      <td>1</td>\n",
       "      <td>NaN</td>\n",
       "      <td>NaN</td>\n",
       "      <td>NaN</td>\n",
       "      <td>164.85</td>\n",
       "    </tr>\n",
       "    <tr>\n",
       "      <th>9</th>\n",
       "      <td>Call</td>\n",
       "      <td>Option</td>\n",
       "      <td>AAPL</td>\n",
       "      <td>1</td>\n",
       "      <td>Call</td>\n",
       "      <td>3/18/2022</td>\n",
       "      <td>165.0</td>\n",
       "      <td>4.50</td>\n",
       "    </tr>\n",
       "    <tr>\n",
       "      <th>10</th>\n",
       "      <td>Put</td>\n",
       "      <td>Option</td>\n",
       "      <td>AAPL</td>\n",
       "      <td>1</td>\n",
       "      <td>Put</td>\n",
       "      <td>3/18/2022</td>\n",
       "      <td>165.0</td>\n",
       "      <td>4.40</td>\n",
       "    </tr>\n",
       "    <tr>\n",
       "      <th>11</th>\n",
       "      <td>CoveredCall</td>\n",
       "      <td>Stock</td>\n",
       "      <td>AAPL</td>\n",
       "      <td>1</td>\n",
       "      <td>NaN</td>\n",
       "      <td>NaN</td>\n",
       "      <td>NaN</td>\n",
       "      <td>164.85</td>\n",
       "    </tr>\n",
       "    <tr>\n",
       "      <th>12</th>\n",
       "      <td>CoveredCall</td>\n",
       "      <td>Option</td>\n",
       "      <td>AAPL</td>\n",
       "      <td>-1</td>\n",
       "      <td>Call</td>\n",
       "      <td>3/18/2022</td>\n",
       "      <td>165.0</td>\n",
       "      <td>4.50</td>\n",
       "    </tr>\n",
       "    <tr>\n",
       "      <th>13</th>\n",
       "      <td>ProtectedPut</td>\n",
       "      <td>Stock</td>\n",
       "      <td>AAPL</td>\n",
       "      <td>1</td>\n",
       "      <td>NaN</td>\n",
       "      <td>NaN</td>\n",
       "      <td>NaN</td>\n",
       "      <td>164.85</td>\n",
       "    </tr>\n",
       "    <tr>\n",
       "      <th>14</th>\n",
       "      <td>ProtectedPut</td>\n",
       "      <td>Option</td>\n",
       "      <td>AAPL</td>\n",
       "      <td>1</td>\n",
       "      <td>Put</td>\n",
       "      <td>3/18/2022</td>\n",
       "      <td>165.0</td>\n",
       "      <td>4.40</td>\n",
       "    </tr>\n",
       "  </tbody>\n",
       "</table>\n",
       "</div>"
      ],
      "text/plain": [
       "       Portfolio    Type Underlying  Holding OptionType ExpirationDate  \\\n",
       "0       Straddle  Option       AAPL        1       Call      3/18/2022   \n",
       "1       Straddle  Option       AAPL        1        Put      3/18/2022   \n",
       "2        SynLong  Option       AAPL        1       Call      3/18/2022   \n",
       "3        SynLong  Option       AAPL       -1        Put      3/18/2022   \n",
       "4     CallSpread  Option       AAPL        1       Call      3/18/2022   \n",
       "5     CallSpread  Option       AAPL       -1       Call      3/18/2022   \n",
       "6      PutSpread  Option       AAPL        1        Put      3/18/2022   \n",
       "7      PutSpread  Option       AAPL       -1        Put      3/18/2022   \n",
       "8          Stock   Stock       AAPL        1        NaN            NaN   \n",
       "9          Call   Option       AAPL        1       Call      3/18/2022   \n",
       "10          Put   Option       AAPL        1        Put      3/18/2022   \n",
       "11   CoveredCall   Stock       AAPL        1        NaN            NaN   \n",
       "12   CoveredCall  Option       AAPL       -1       Call      3/18/2022   \n",
       "13  ProtectedPut   Stock       AAPL        1        NaN            NaN   \n",
       "14  ProtectedPut  Option       AAPL        1        Put      3/18/2022   \n",
       "\n",
       "    Strike  CurrentPrice  \n",
       "0    165.0          4.50  \n",
       "1    165.0          4.40  \n",
       "2    165.0          4.50  \n",
       "3    165.0          4.40  \n",
       "4    165.0          4.50  \n",
       "5    175.0          0.72  \n",
       "6    165.0          4.40  \n",
       "7    155.0          1.60  \n",
       "8      NaN        164.85  \n",
       "9    165.0          4.50  \n",
       "10   165.0          4.40  \n",
       "11     NaN        164.85  \n",
       "12   165.0          4.50  \n",
       "13     NaN        164.85  \n",
       "14   165.0          4.40  "
      ]
     },
     "execution_count": 8,
     "metadata": {},
     "output_type": "execute_result"
    }
   ],
   "source": [
    "S = 164.85\n",
    "r = 0.25/100\n",
    "DivTime = (datetime(2022,3,15)-datetime(2022,2,25)).days/365\n",
    "port = pd.read_csv('problem2.csv')\n",
    "port"
   ]
  },
  {
   "cell_type": "code",
   "execution_count": 9,
   "id": "1301df0c",
   "metadata": {},
   "outputs": [],
   "source": [
    "returns = pd.read_csv('DailyReturn.csv',index_col = 0)\n",
    "returns = returns['AAPL']\n",
    "aaplSigma = returns.std()\n"
   ]
  },
  {
   "cell_type": "code",
   "execution_count": 10,
   "id": "dea20f6c",
   "metadata": {},
   "outputs": [],
   "source": [
    "\n",
    "\n",
    "T = (datetime(2022,3,18) - datetime(2022,2,25)).days/365\n",
    "\n",
    "K = port['Strike']\n",
    "Type = np.where((port['OptionType'] == \"Call\"), True, np.where((port['OptionType'] == \"Put\"), False, np.nan))\n",
    "opt_price = port['CurrentPrice']\n",
    "\n",
    "\n",
    "implied_vol = []\n",
    "optDelta = []\n",
    "for i in range(len(K)):\n",
    "    if port['Type'][i]=='Option':\n",
    "        implied_vol.append(blackscholes.implied_volatility(S,K[i],T,r,q,opt_price[i],Type[i]))\n",
    "        \n",
    "        opt = 'C' if port['OptionType'][i]==\"Call\" else 'P'\n",
    "        div = [[DivTime],[0.88]]\n",
    "        optDelta.append(BinomialTreeOption(opt, 164.85, port['Strike'][i], r, sigma, T, 2000,'true', div).Delta)\n",
    "    else:\n",
    "        implied_vol.append(np.nan)\n",
    "        optDelta.append(1)\n",
    "        \n"
   ]
  },
  {
   "cell_type": "code",
   "execution_count": 11,
   "id": "391ccf84",
   "metadata": {},
   "outputs": [
    {
     "data": {
      "text/html": [
       "<div>\n",
       "<style scoped>\n",
       "    .dataframe tbody tr th:only-of-type {\n",
       "        vertical-align: middle;\n",
       "    }\n",
       "\n",
       "    .dataframe tbody tr th {\n",
       "        vertical-align: top;\n",
       "    }\n",
       "\n",
       "    .dataframe thead th {\n",
       "        text-align: right;\n",
       "    }\n",
       "</style>\n",
       "<table border=\"1\" class=\"dataframe\">\n",
       "  <thead>\n",
       "    <tr style=\"text-align: right;\">\n",
       "      <th></th>\n",
       "      <th>Portfolio</th>\n",
       "      <th>Type</th>\n",
       "      <th>Underlying</th>\n",
       "      <th>Holding</th>\n",
       "      <th>OptionType</th>\n",
       "      <th>ExpirationDate</th>\n",
       "      <th>Strike</th>\n",
       "      <th>CurrentPrice</th>\n",
       "      <th>Implied vol</th>\n",
       "      <th>Delta</th>\n",
       "    </tr>\n",
       "  </thead>\n",
       "  <tbody>\n",
       "    <tr>\n",
       "      <th>0</th>\n",
       "      <td>Straddle</td>\n",
       "      <td>Option</td>\n",
       "      <td>AAPL</td>\n",
       "      <td>1</td>\n",
       "      <td>Call</td>\n",
       "      <td>3/18/2022</td>\n",
       "      <td>165.0</td>\n",
       "      <td>4.50</td>\n",
       "      <td>0.290819</td>\n",
       "      <td>0.508337</td>\n",
       "    </tr>\n",
       "    <tr>\n",
       "      <th>1</th>\n",
       "      <td>Straddle</td>\n",
       "      <td>Option</td>\n",
       "      <td>AAPL</td>\n",
       "      <td>1</td>\n",
       "      <td>Put</td>\n",
       "      <td>3/18/2022</td>\n",
       "      <td>165.0</td>\n",
       "      <td>4.40</td>\n",
       "      <td>0.273281</td>\n",
       "      <td>-0.533976</td>\n",
       "    </tr>\n",
       "    <tr>\n",
       "      <th>2</th>\n",
       "      <td>SynLong</td>\n",
       "      <td>Option</td>\n",
       "      <td>AAPL</td>\n",
       "      <td>1</td>\n",
       "      <td>Call</td>\n",
       "      <td>3/18/2022</td>\n",
       "      <td>165.0</td>\n",
       "      <td>4.50</td>\n",
       "      <td>0.290819</td>\n",
       "      <td>0.508337</td>\n",
       "    </tr>\n",
       "    <tr>\n",
       "      <th>3</th>\n",
       "      <td>SynLong</td>\n",
       "      <td>Option</td>\n",
       "      <td>AAPL</td>\n",
       "      <td>-1</td>\n",
       "      <td>Put</td>\n",
       "      <td>3/18/2022</td>\n",
       "      <td>165.0</td>\n",
       "      <td>4.40</td>\n",
       "      <td>0.273281</td>\n",
       "      <td>-0.533976</td>\n",
       "    </tr>\n",
       "    <tr>\n",
       "      <th>4</th>\n",
       "      <td>CallSpread</td>\n",
       "      <td>Option</td>\n",
       "      <td>AAPL</td>\n",
       "      <td>1</td>\n",
       "      <td>Call</td>\n",
       "      <td>3/18/2022</td>\n",
       "      <td>165.0</td>\n",
       "      <td>4.50</td>\n",
       "      <td>0.290819</td>\n",
       "      <td>0.508337</td>\n",
       "    </tr>\n",
       "    <tr>\n",
       "      <th>5</th>\n",
       "      <td>CallSpread</td>\n",
       "      <td>Option</td>\n",
       "      <td>AAPL</td>\n",
       "      <td>-1</td>\n",
       "      <td>Call</td>\n",
       "      <td>3/18/2022</td>\n",
       "      <td>175.0</td>\n",
       "      <td>0.72</td>\n",
       "      <td>0.236476</td>\n",
       "      <td>0.100589</td>\n",
       "    </tr>\n",
       "    <tr>\n",
       "      <th>6</th>\n",
       "      <td>PutSpread</td>\n",
       "      <td>Option</td>\n",
       "      <td>AAPL</td>\n",
       "      <td>1</td>\n",
       "      <td>Put</td>\n",
       "      <td>3/18/2022</td>\n",
       "      <td>165.0</td>\n",
       "      <td>4.40</td>\n",
       "      <td>0.273281</td>\n",
       "      <td>-0.533976</td>\n",
       "    </tr>\n",
       "    <tr>\n",
       "      <th>7</th>\n",
       "      <td>PutSpread</td>\n",
       "      <td>Option</td>\n",
       "      <td>AAPL</td>\n",
       "      <td>-1</td>\n",
       "      <td>Put</td>\n",
       "      <td>3/18/2022</td>\n",
       "      <td>155.0</td>\n",
       "      <td>1.60</td>\n",
       "      <td>0.331380</td>\n",
       "      <td>-0.112758</td>\n",
       "    </tr>\n",
       "    <tr>\n",
       "      <th>8</th>\n",
       "      <td>Stock</td>\n",
       "      <td>Stock</td>\n",
       "      <td>AAPL</td>\n",
       "      <td>1</td>\n",
       "      <td>NaN</td>\n",
       "      <td>NaN</td>\n",
       "      <td>NaN</td>\n",
       "      <td>164.85</td>\n",
       "      <td>NaN</td>\n",
       "      <td>1.000000</td>\n",
       "    </tr>\n",
       "    <tr>\n",
       "      <th>9</th>\n",
       "      <td>Call</td>\n",
       "      <td>Option</td>\n",
       "      <td>AAPL</td>\n",
       "      <td>1</td>\n",
       "      <td>Call</td>\n",
       "      <td>3/18/2022</td>\n",
       "      <td>165.0</td>\n",
       "      <td>4.50</td>\n",
       "      <td>0.290819</td>\n",
       "      <td>0.508337</td>\n",
       "    </tr>\n",
       "    <tr>\n",
       "      <th>10</th>\n",
       "      <td>Put</td>\n",
       "      <td>Option</td>\n",
       "      <td>AAPL</td>\n",
       "      <td>1</td>\n",
       "      <td>Put</td>\n",
       "      <td>3/18/2022</td>\n",
       "      <td>165.0</td>\n",
       "      <td>4.40</td>\n",
       "      <td>0.273281</td>\n",
       "      <td>-0.533976</td>\n",
       "    </tr>\n",
       "    <tr>\n",
       "      <th>11</th>\n",
       "      <td>CoveredCall</td>\n",
       "      <td>Stock</td>\n",
       "      <td>AAPL</td>\n",
       "      <td>1</td>\n",
       "      <td>NaN</td>\n",
       "      <td>NaN</td>\n",
       "      <td>NaN</td>\n",
       "      <td>164.85</td>\n",
       "      <td>NaN</td>\n",
       "      <td>1.000000</td>\n",
       "    </tr>\n",
       "    <tr>\n",
       "      <th>12</th>\n",
       "      <td>CoveredCall</td>\n",
       "      <td>Option</td>\n",
       "      <td>AAPL</td>\n",
       "      <td>-1</td>\n",
       "      <td>Call</td>\n",
       "      <td>3/18/2022</td>\n",
       "      <td>165.0</td>\n",
       "      <td>4.50</td>\n",
       "      <td>0.290819</td>\n",
       "      <td>0.508337</td>\n",
       "    </tr>\n",
       "    <tr>\n",
       "      <th>13</th>\n",
       "      <td>ProtectedPut</td>\n",
       "      <td>Stock</td>\n",
       "      <td>AAPL</td>\n",
       "      <td>1</td>\n",
       "      <td>NaN</td>\n",
       "      <td>NaN</td>\n",
       "      <td>NaN</td>\n",
       "      <td>164.85</td>\n",
       "      <td>NaN</td>\n",
       "      <td>1.000000</td>\n",
       "    </tr>\n",
       "    <tr>\n",
       "      <th>14</th>\n",
       "      <td>ProtectedPut</td>\n",
       "      <td>Option</td>\n",
       "      <td>AAPL</td>\n",
       "      <td>1</td>\n",
       "      <td>Put</td>\n",
       "      <td>3/18/2022</td>\n",
       "      <td>165.0</td>\n",
       "      <td>4.40</td>\n",
       "      <td>0.273281</td>\n",
       "      <td>-0.533976</td>\n",
       "    </tr>\n",
       "  </tbody>\n",
       "</table>\n",
       "</div>"
      ],
      "text/plain": [
       "       Portfolio    Type Underlying  Holding OptionType ExpirationDate  \\\n",
       "0       Straddle  Option       AAPL        1       Call      3/18/2022   \n",
       "1       Straddle  Option       AAPL        1        Put      3/18/2022   \n",
       "2        SynLong  Option       AAPL        1       Call      3/18/2022   \n",
       "3        SynLong  Option       AAPL       -1        Put      3/18/2022   \n",
       "4     CallSpread  Option       AAPL        1       Call      3/18/2022   \n",
       "5     CallSpread  Option       AAPL       -1       Call      3/18/2022   \n",
       "6      PutSpread  Option       AAPL        1        Put      3/18/2022   \n",
       "7      PutSpread  Option       AAPL       -1        Put      3/18/2022   \n",
       "8          Stock   Stock       AAPL        1        NaN            NaN   \n",
       "9          Call   Option       AAPL        1       Call      3/18/2022   \n",
       "10          Put   Option       AAPL        1        Put      3/18/2022   \n",
       "11   CoveredCall   Stock       AAPL        1        NaN            NaN   \n",
       "12   CoveredCall  Option       AAPL       -1       Call      3/18/2022   \n",
       "13  ProtectedPut   Stock       AAPL        1        NaN            NaN   \n",
       "14  ProtectedPut  Option       AAPL        1        Put      3/18/2022   \n",
       "\n",
       "    Strike  CurrentPrice  Implied vol     Delta  \n",
       "0    165.0          4.50     0.290819  0.508337  \n",
       "1    165.0          4.40     0.273281 -0.533976  \n",
       "2    165.0          4.50     0.290819  0.508337  \n",
       "3    165.0          4.40     0.273281 -0.533976  \n",
       "4    165.0          4.50     0.290819  0.508337  \n",
       "5    175.0          0.72     0.236476  0.100589  \n",
       "6    165.0          4.40     0.273281 -0.533976  \n",
       "7    155.0          1.60     0.331380 -0.112758  \n",
       "8      NaN        164.85          NaN  1.000000  \n",
       "9    165.0          4.50     0.290819  0.508337  \n",
       "10   165.0          4.40     0.273281 -0.533976  \n",
       "11     NaN        164.85          NaN  1.000000  \n",
       "12   165.0          4.50     0.290819  0.508337  \n",
       "13     NaN        164.85          NaN  1.000000  \n",
       "14   165.0          4.40     0.273281 -0.533976  "
      ]
     },
     "execution_count": 11,
     "metadata": {},
     "output_type": "execute_result"
    }
   ],
   "source": [
    "port['Implied vol'] = np.array(implied_vol)\n",
    "port['Delta'] = np.array(optDelta)\n",
    "port"
   ]
  },
  {
   "cell_type": "markdown",
   "id": "d6448b00",
   "metadata": {},
   "source": [
    "#### Estimate the VaR and ES by using Delta-normal method\n",
    "- we need calculate the gradient of each portfolio:\n",
    "$$\n",
    "\\frac{dR}{dr_i} = \\frac{P_i}{PV}\\Sigma^m_{j=1}h_j\\delta_j\n",
    "$$\n",
    "\n",
    "- for each portfolio, the volatility can be estimated by:\n",
    "$$\n",
    "\\sigma_p = \\nabla R^T \\Sigma \\nabla R\n",
    "$$\n",
    "\n",
    "- use the portfolio sigma to simulate 10000 draw of return series(assume the mean is 0)\n",
    "\n",
    "- use historical data to calculate the VaR and ES"
   ]
  },
  {
   "cell_type": "code",
   "execution_count": 12,
   "id": "24eec6d9",
   "metadata": {},
   "outputs": [],
   "source": [
    "Strategy = port['Portfolio'].unique()\n",
    "portGrad = []\n",
    "Port_pv = []\n",
    "\n",
    "for i in range(len(Strategy)):\n",
    "    data = port[port['Portfolio']==Strategy[i]] \n",
    "    pv = (data['CurrentPrice']*data['Holding']).sum()\n",
    "    Port_pv.append(pv)\n",
    "    #print(port['Delta'])\n",
    "    grad = S/pv * (data['Holding']*port['Delta']).sum()\n",
    "    portGrad.append(grad)\n",
    "\n",
    "portSigma = []\n",
    "for grad in portGrad:\n",
    "    portSigma.append(np.abs(grad)*aaplSigma)\n"
   ]
  },
  {
   "cell_type": "code",
   "execution_count": 13,
   "id": "3bc5d029",
   "metadata": {},
   "outputs": [],
   "source": [
    "# delta Normal\n",
    "rets_sim = pd.DataFrame()\n",
    "for i in range(len(portSigma)):\n",
    "    return_simu = norm.rvs(size = 10000, loc=0, scale = portSigma[i]*np.sqrt(10))\n",
    "    rets_sim[Strategy[i]] = return_simu\n",
    "    \n",
    "\n",
    "pred_mean = []\n",
    "pred_VaR = []\n",
    "pred_es = []\n",
    "for i in range(len(Strategy)):\n",
    "    sim_PnL = Port_pv[i]*(rets_sim[Strategy[i]])\n",
    "    \n",
    "    pred_mean.append(sim_PnL.mean())\n",
    "    pred_VaR.append(VaR.VaR_Historic(sim_PnL))\n",
    "    pred_es.append(ES.ES(sim_PnL))"
   ]
  },
  {
   "cell_type": "code",
   "execution_count": 14,
   "id": "0b8181c9",
   "metadata": {},
   "outputs": [
    {
     "data": {
      "text/html": [
       "<div>\n",
       "<style scoped>\n",
       "    .dataframe tbody tr th:only-of-type {\n",
       "        vertical-align: middle;\n",
       "    }\n",
       "\n",
       "    .dataframe tbody tr th {\n",
       "        vertical-align: top;\n",
       "    }\n",
       "\n",
       "    .dataframe thead th {\n",
       "        text-align: right;\n",
       "    }\n",
       "</style>\n",
       "<table border=\"1\" class=\"dataframe\">\n",
       "  <thead>\n",
       "    <tr style=\"text-align: right;\">\n",
       "      <th></th>\n",
       "      <th>Mean</th>\n",
       "      <th>VaR</th>\n",
       "      <th>ES</th>\n",
       "    </tr>\n",
       "  </thead>\n",
       "  <tbody>\n",
       "    <tr>\n",
       "      <th>Straddle</th>\n",
       "      <td>0.000248</td>\n",
       "      <td>0.354497</td>\n",
       "      <td>0.439275</td>\n",
       "    </tr>\n",
       "    <tr>\n",
       "      <th>SynLong</th>\n",
       "      <td>-0.006445</td>\n",
       "      <td>14.355622</td>\n",
       "      <td>17.923193</td>\n",
       "    </tr>\n",
       "    <tr>\n",
       "      <th>CallSpread</th>\n",
       "      <td>-0.052434</td>\n",
       "      <td>5.555650</td>\n",
       "      <td>7.044779</td>\n",
       "    </tr>\n",
       "    <tr>\n",
       "      <th>PutSpread</th>\n",
       "      <td>0.076290</td>\n",
       "      <td>5.832645</td>\n",
       "      <td>7.273784</td>\n",
       "    </tr>\n",
       "    <tr>\n",
       "      <th>Stock</th>\n",
       "      <td>-0.058624</td>\n",
       "      <td>13.789824</td>\n",
       "      <td>17.429537</td>\n",
       "    </tr>\n",
       "    <tr>\n",
       "      <th>Call</th>\n",
       "      <td>-0.020548</td>\n",
       "      <td>6.991100</td>\n",
       "      <td>8.693729</td>\n",
       "    </tr>\n",
       "    <tr>\n",
       "      <th>Put</th>\n",
       "      <td>0.057560</td>\n",
       "      <td>7.262282</td>\n",
       "      <td>9.192509</td>\n",
       "    </tr>\n",
       "    <tr>\n",
       "      <th>CoveredCall</th>\n",
       "      <td>-0.005153</td>\n",
       "      <td>6.672733</td>\n",
       "      <td>8.396764</td>\n",
       "    </tr>\n",
       "    <tr>\n",
       "      <th>ProtectedPut</th>\n",
       "      <td>-0.055833</td>\n",
       "      <td>6.425375</td>\n",
       "      <td>8.052406</td>\n",
       "    </tr>\n",
       "  </tbody>\n",
       "</table>\n",
       "</div>"
      ],
      "text/plain": [
       "                  Mean        VaR         ES\n",
       "Straddle      0.000248   0.354497   0.439275\n",
       "SynLong      -0.006445  14.355622  17.923193\n",
       "CallSpread   -0.052434   5.555650   7.044779\n",
       "PutSpread     0.076290   5.832645   7.273784\n",
       "Stock        -0.058624  13.789824  17.429537\n",
       "Call         -0.020548   6.991100   8.693729\n",
       "Put           0.057560   7.262282   9.192509\n",
       "CoveredCall  -0.005153   6.672733   8.396764\n",
       "ProtectedPut -0.055833   6.425375   8.052406"
      ]
     },
     "execution_count": 14,
     "metadata": {},
     "output_type": "execute_result"
    }
   ],
   "source": [
    "stat = pd.DataFrame({\"Mean\":pred_mean,'VaR':pred_VaR,'ES':pred_es},index = Strategy)\n",
    "stat"
   ]
  },
  {
   "cell_type": "markdown",
   "id": "ab9a7752",
   "metadata": {},
   "source": [
    "\n",
    "### Results from week06\n",
    "\n",
    "<img src=\"last_week_stat.jpg\" alt=\"drawing\" width=\"350\"/>\n",
    "\n",
    "## Conclusion 2\n",
    "The results estimated using Delta Normal are very similar to last week's results for most portfolio strategies, but since delta varies with option prices in nonlinear assets, huge deviation from correct result could occur  in the returns simulation of option portfolios."
   ]
  },
  {
   "cell_type": "markdown",
   "id": "29b002ed",
   "metadata": {},
   "source": [
    "## problem3\n",
    "\n",
    "Use the Fama French 3 factor return time series (F-F_Research_Data_Factors_daily.CSV) as well as the Carhart Momentum time series (F-F_Momentum_Factor_daily.CSV) to fit a 4 factor model to the following stocks."
   ]
  },
  {
   "cell_type": "markdown",
   "id": "7530fbad",
   "metadata": {},
   "source": [
    "$$\n",
    "R_s = R_f + \\beta_1(Mkt-R_f) + \\beta_2(SMB) + \\beta_3(HML)\n",
    "$$"
   ]
  },
  {
   "cell_type": "code",
   "execution_count": 15,
   "id": "8d0ee660",
   "metadata": {},
   "outputs": [],
   "source": [
    "# deal with the momentum data\n",
    "ff_4th = pd.read_csv('F-F_Momentum_Factor_daily.CSV', parse_dates=['Date']).set_index('Date')/100\n",
    "ff_4th.rename(columns = {'Mom   ':\"Mom\"},inplace=True)\n"
   ]
  },
  {
   "cell_type": "code",
   "execution_count": 16,
   "id": "7120bb94",
   "metadata": {},
   "outputs": [],
   "source": [
    "rets = pd.read_csv('DailyReturn.csv', parse_dates=['Date']).set_index('Date')\n",
    "rets.index = pd.DatetimeIndex(rets.index)\n"
   ]
  },
  {
   "cell_type": "code",
   "execution_count": 17,
   "id": "9b2c53c5",
   "metadata": {},
   "outputs": [
    {
     "data": {
      "text/html": [
       "<div>\n",
       "<style scoped>\n",
       "    .dataframe tbody tr th:only-of-type {\n",
       "        vertical-align: middle;\n",
       "    }\n",
       "\n",
       "    .dataframe tbody tr th {\n",
       "        vertical-align: top;\n",
       "    }\n",
       "\n",
       "    .dataframe thead th {\n",
       "        text-align: right;\n",
       "    }\n",
       "</style>\n",
       "<table border=\"1\" class=\"dataframe\">\n",
       "  <thead>\n",
       "    <tr style=\"text-align: right;\">\n",
       "      <th></th>\n",
       "      <th>Mkt-RF</th>\n",
       "      <th>SMB</th>\n",
       "      <th>HML</th>\n",
       "      <th>RF</th>\n",
       "      <th>Mom</th>\n",
       "    </tr>\n",
       "    <tr>\n",
       "      <th>Date</th>\n",
       "      <th></th>\n",
       "      <th></th>\n",
       "      <th></th>\n",
       "      <th></th>\n",
       "      <th></th>\n",
       "    </tr>\n",
       "  </thead>\n",
       "  <tbody>\n",
       "    <tr>\n",
       "      <th>2022-01-25</th>\n",
       "      <td>-0.0143</td>\n",
       "      <td>-0.0060</td>\n",
       "      <td>0.0279</td>\n",
       "      <td>0.0</td>\n",
       "      <td>0.0026</td>\n",
       "    </tr>\n",
       "    <tr>\n",
       "      <th>2022-01-26</th>\n",
       "      <td>-0.0030</td>\n",
       "      <td>-0.0108</td>\n",
       "      <td>0.0009</td>\n",
       "      <td>0.0</td>\n",
       "      <td>0.0139</td>\n",
       "    </tr>\n",
       "    <tr>\n",
       "      <th>2022-01-27</th>\n",
       "      <td>-0.0078</td>\n",
       "      <td>-0.0163</td>\n",
       "      <td>0.0077</td>\n",
       "      <td>0.0</td>\n",
       "      <td>0.0030</td>\n",
       "    </tr>\n",
       "    <tr>\n",
       "      <th>2022-01-28</th>\n",
       "      <td>0.0245</td>\n",
       "      <td>-0.0015</td>\n",
       "      <td>-0.0207</td>\n",
       "      <td>0.0</td>\n",
       "      <td>-0.0027</td>\n",
       "    </tr>\n",
       "    <tr>\n",
       "      <th>2022-01-31</th>\n",
       "      <td>0.0233</td>\n",
       "      <td>0.0129</td>\n",
       "      <td>-0.0286</td>\n",
       "      <td>0.0</td>\n",
       "      <td>-0.0170</td>\n",
       "    </tr>\n",
       "  </tbody>\n",
       "</table>\n",
       "</div>"
      ],
      "text/plain": [
       "            Mkt-RF     SMB     HML   RF     Mom\n",
       "Date                                           \n",
       "2022-01-25 -0.0143 -0.0060  0.0279  0.0  0.0026\n",
       "2022-01-26 -0.0030 -0.0108  0.0009  0.0  0.0139\n",
       "2022-01-27 -0.0078 -0.0163  0.0077  0.0  0.0030\n",
       "2022-01-28  0.0245 -0.0015 -0.0207  0.0 -0.0027\n",
       "2022-01-31  0.0233  0.0129 -0.0286  0.0 -0.0170"
      ]
     },
     "execution_count": 17,
     "metadata": {},
     "output_type": "execute_result"
    }
   ],
   "source": [
    "FF = pd.read_csv('F-F_Research_Data_Factors_daily.CSV')\n",
    "FF['Date'] = FF['Date'].apply(lambda x: str(datetime.strptime(str(x), '%Y%m%d').date()))\n",
    "FF.set_index('Date',inplace=True)\n",
    "FF.index = pd.DatetimeIndex(FF.index)\n",
    "FF /=100 #scale by div 100\n",
    "FF = FF.join(ff_4th)\n",
    "FF.tail()"
   ]
  },
  {
   "cell_type": "code",
   "execution_count": 66,
   "id": "082c6224",
   "metadata": {},
   "outputs": [
    {
     "data": {
      "text/html": [
       "<div>\n",
       "<style scoped>\n",
       "    .dataframe tbody tr th:only-of-type {\n",
       "        vertical-align: middle;\n",
       "    }\n",
       "\n",
       "    .dataframe tbody tr th {\n",
       "        vertical-align: top;\n",
       "    }\n",
       "\n",
       "    .dataframe thead th {\n",
       "        text-align: right;\n",
       "    }\n",
       "</style>\n",
       "<table border=\"1\" class=\"dataframe\">\n",
       "  <thead>\n",
       "    <tr style=\"text-align: right;\">\n",
       "      <th></th>\n",
       "      <th>LMT</th>\n",
       "      <th>SYK</th>\n",
       "      <th>GM</th>\n",
       "      <th>TFC</th>\n",
       "      <th>TJX</th>\n",
       "      <th>Mkt-RF</th>\n",
       "      <th>SMB</th>\n",
       "      <th>HML</th>\n",
       "      <th>RF</th>\n",
       "      <th>Mom</th>\n",
       "    </tr>\n",
       "    <tr>\n",
       "      <th>Date</th>\n",
       "      <th></th>\n",
       "      <th></th>\n",
       "      <th></th>\n",
       "      <th></th>\n",
       "      <th></th>\n",
       "      <th></th>\n",
       "      <th></th>\n",
       "      <th></th>\n",
       "      <th></th>\n",
       "      <th></th>\n",
       "    </tr>\n",
       "  </thead>\n",
       "  <tbody>\n",
       "    <tr>\n",
       "      <th>2021-10-21</th>\n",
       "      <td>0.005416</td>\n",
       "      <td>0.009789</td>\n",
       "      <td>0.012832</td>\n",
       "      <td>-0.004696</td>\n",
       "      <td>0.012841</td>\n",
       "      <td>0.0037</td>\n",
       "      <td>0.0020</td>\n",
       "      <td>-0.0098</td>\n",
       "      <td>0.0</td>\n",
       "      <td>0.0003</td>\n",
       "    </tr>\n",
       "    <tr>\n",
       "      <th>2021-10-22</th>\n",
       "      <td>0.003913</td>\n",
       "      <td>-0.002568</td>\n",
       "      <td>-0.010957</td>\n",
       "      <td>0.013526</td>\n",
       "      <td>-0.008040</td>\n",
       "      <td>-0.0025</td>\n",
       "      <td>-0.0023</td>\n",
       "      <td>0.0102</td>\n",
       "      <td>0.0</td>\n",
       "      <td>0.0031</td>\n",
       "    </tr>\n",
       "    <tr>\n",
       "      <th>2021-10-25</th>\n",
       "      <td>0.004618</td>\n",
       "      <td>-0.009720</td>\n",
       "      <td>-0.000173</td>\n",
       "      <td>0.002017</td>\n",
       "      <td>0.017145</td>\n",
       "      <td>0.0058</td>\n",
       "      <td>0.0049</td>\n",
       "      <td>-0.0016</td>\n",
       "      <td>0.0</td>\n",
       "      <td>0.0124</td>\n",
       "    </tr>\n",
       "    <tr>\n",
       "      <th>2021-10-26</th>\n",
       "      <td>-0.118035</td>\n",
       "      <td>0.000476</td>\n",
       "      <td>-0.006752</td>\n",
       "      <td>-0.002013</td>\n",
       "      <td>0.001073</td>\n",
       "      <td>0.0004</td>\n",
       "      <td>-0.0071</td>\n",
       "      <td>-0.0032</td>\n",
       "      <td>0.0</td>\n",
       "      <td>-0.0022</td>\n",
       "    </tr>\n",
       "    <tr>\n",
       "      <th>2021-10-27</th>\n",
       "      <td>-0.002922</td>\n",
       "      <td>-0.017132</td>\n",
       "      <td>-0.054210</td>\n",
       "      <td>-0.022191</td>\n",
       "      <td>-0.011786</td>\n",
       "      <td>-0.0076</td>\n",
       "      <td>-0.0074</td>\n",
       "      <td>-0.0119</td>\n",
       "      <td>0.0</td>\n",
       "      <td>-0.0008</td>\n",
       "    </tr>\n",
       "  </tbody>\n",
       "</table>\n",
       "</div>"
      ],
      "text/plain": [
       "                 LMT       SYK        GM       TFC       TJX  Mkt-RF     SMB  \\\n",
       "Date                                                                           \n",
       "2021-10-21  0.005416  0.009789  0.012832 -0.004696  0.012841  0.0037  0.0020   \n",
       "2021-10-22  0.003913 -0.002568 -0.010957  0.013526 -0.008040 -0.0025 -0.0023   \n",
       "2021-10-25  0.004618 -0.009720 -0.000173  0.002017  0.017145  0.0058  0.0049   \n",
       "2021-10-26 -0.118035  0.000476 -0.006752 -0.002013  0.001073  0.0004 -0.0071   \n",
       "2021-10-27 -0.002922 -0.017132 -0.054210 -0.022191 -0.011786 -0.0076 -0.0074   \n",
       "\n",
       "               HML   RF     Mom  \n",
       "Date                             \n",
       "2021-10-21 -0.0098  0.0  0.0003  \n",
       "2021-10-22  0.0102  0.0  0.0031  \n",
       "2021-10-25 -0.0016  0.0  0.0124  \n",
       "2021-10-26 -0.0032  0.0 -0.0022  \n",
       "2021-10-27 -0.0119  0.0 -0.0008  "
      ]
     },
     "execution_count": 66,
     "metadata": {},
     "output_type": "execute_result"
    }
   ],
   "source": [
    "stockList = ['AAPL','FB','UNH','MA','MSFT','NVDA','HD','PFE','AMZN','BRK-B','PG','XOM','TSLA','JPM','V','DIS','GOOGL','JNJ','BAC','CSCO']\n",
    "factors = ['Mkt-RF','SMB','HML','Mom']\n",
    "fama_frame = rets.join(FF)\n",
    "fama_frame.iloc[:,-10:].head()"
   ]
  },
  {
   "cell_type": "code",
   "execution_count": 67,
   "id": "d6e78d61",
   "metadata": {},
   "outputs": [],
   "source": [
    "param_dict = {}\n",
    "\n",
    "x1 = fama_frame['Mkt-RF']\n",
    "x2 = fama_frame['SMB']\n",
    "x3 = fama_frame['HML']\n",
    "x4 = fama_frame['Mom']\n",
    "\n",
    "X = pd.DataFrame({\"Mkt-RF\":x1, \"SMB\":x2,\"HML\":x3,'Mom':x4})\n",
    "X_ = sm.add_constant(X)\n",
    "for st in stockList:\n",
    "    Y = rets[st] - fama_frame['RF']\n",
    "    result = sm.OLS(Y, X_).fit()\n",
    "    param_dict[st] = (result.params)\n"
   ]
  },
  {
   "cell_type": "markdown",
   "id": "e3546152",
   "metadata": {},
   "source": [
    "## Conclusion 3.1\n",
    "The expected annual geometric return and covariance of each stock:"
   ]
  },
  {
   "cell_type": "code",
   "execution_count": 105,
   "id": "77f22ab1",
   "metadata": {},
   "outputs": [
    {
     "data": {
      "text/plain": [
       "AAPL     0.143414\n",
       "FB       0.219205\n",
       "UNH      0.137663\n",
       "MA       0.261014\n",
       "MSFT     0.172935\n",
       "NVDA     0.325676\n",
       "HD       0.100648\n",
       "PFE     -0.150353\n",
       "AMZN     0.186311\n",
       "BRK-B    0.112803\n",
       "PG       0.077017\n",
       "XOM      0.179250\n",
       "TSLA     0.184864\n",
       "JPM      0.132777\n",
       "V        0.190974\n",
       "DIS      0.150065\n",
       "GOOGL    0.194495\n",
       "JNJ      0.075037\n",
       "BAC      0.172139\n",
       "CSCO     0.137953\n",
       "dtype: float64"
      ]
     },
     "execution_count": 105,
     "metadata": {},
     "output_type": "execute_result"
    }
   ],
   "source": [
    "FF_10years = FF[FF.index>=datetime(2012,1,31)]\n",
    "\n",
    "exp_rets_frame = pd.DataFrame()\n",
    "\n",
    "for st, param in param_dict.items():\n",
    "    exp_rets = FF_10years[factors]@param[factors]+FF_10years['RF'].mean()\n",
    "    exp_rets_frame[st] = exp_rets\n",
    "stockMeans = np.log(1 + exp_rets_frame.mean())*255\n",
    "covariance = np.log(rets[stockList] + 1).cov() * 255\n",
    "stockMeans"
   ]
  },
  {
   "cell_type": "code",
   "execution_count": 106,
   "id": "a3868f3c",
   "metadata": {},
   "outputs": [
    {
     "data": {
      "text/html": [
       "<div>\n",
       "<style scoped>\n",
       "    .dataframe tbody tr th:only-of-type {\n",
       "        vertical-align: middle;\n",
       "    }\n",
       "\n",
       "    .dataframe tbody tr th {\n",
       "        vertical-align: top;\n",
       "    }\n",
       "\n",
       "    .dataframe thead th {\n",
       "        text-align: right;\n",
       "    }\n",
       "</style>\n",
       "<table border=\"1\" class=\"dataframe\">\n",
       "  <thead>\n",
       "    <tr style=\"text-align: right;\">\n",
       "      <th></th>\n",
       "      <th>AAPL</th>\n",
       "      <th>FB</th>\n",
       "      <th>UNH</th>\n",
       "      <th>MA</th>\n",
       "      <th>MSFT</th>\n",
       "      <th>NVDA</th>\n",
       "      <th>HD</th>\n",
       "      <th>PFE</th>\n",
       "      <th>AMZN</th>\n",
       "      <th>BRK-B</th>\n",
       "      <th>PG</th>\n",
       "      <th>XOM</th>\n",
       "      <th>TSLA</th>\n",
       "      <th>JPM</th>\n",
       "      <th>V</th>\n",
       "      <th>DIS</th>\n",
       "      <th>GOOGL</th>\n",
       "      <th>JNJ</th>\n",
       "      <th>BAC</th>\n",
       "      <th>CSCO</th>\n",
       "    </tr>\n",
       "  </thead>\n",
       "  <tbody>\n",
       "    <tr>\n",
       "      <th>AAPL</th>\n",
       "      <td>0.065441</td>\n",
       "      <td>0.031073</td>\n",
       "      <td>0.020744</td>\n",
       "      <td>0.010865</td>\n",
       "      <td>0.039993</td>\n",
       "      <td>0.081306</td>\n",
       "      <td>0.020419</td>\n",
       "      <td>-0.021341</td>\n",
       "      <td>0.041714</td>\n",
       "      <td>0.000136</td>\n",
       "      <td>-0.002699</td>\n",
       "      <td>0.008210</td>\n",
       "      <td>0.081903</td>\n",
       "      <td>0.005251</td>\n",
       "      <td>0.010712</td>\n",
       "      <td>0.012826</td>\n",
       "      <td>0.031423</td>\n",
       "      <td>-0.003238</td>\n",
       "      <td>0.005305</td>\n",
       "      <td>0.011880</td>\n",
       "    </tr>\n",
       "    <tr>\n",
       "      <th>FB</th>\n",
       "      <td>0.031073</td>\n",
       "      <td>0.104613</td>\n",
       "      <td>0.008503</td>\n",
       "      <td>0.040435</td>\n",
       "      <td>0.037940</td>\n",
       "      <td>0.071235</td>\n",
       "      <td>0.007342</td>\n",
       "      <td>-0.034076</td>\n",
       "      <td>0.039219</td>\n",
       "      <td>0.009335</td>\n",
       "      <td>0.000548</td>\n",
       "      <td>0.016634</td>\n",
       "      <td>0.070407</td>\n",
       "      <td>0.003429</td>\n",
       "      <td>0.034626</td>\n",
       "      <td>0.029683</td>\n",
       "      <td>0.036417</td>\n",
       "      <td>0.005036</td>\n",
       "      <td>0.008607</td>\n",
       "      <td>0.016598</td>\n",
       "    </tr>\n",
       "    <tr>\n",
       "      <th>UNH</th>\n",
       "      <td>0.020744</td>\n",
       "      <td>0.008503</td>\n",
       "      <td>0.044678</td>\n",
       "      <td>0.025495</td>\n",
       "      <td>0.022884</td>\n",
       "      <td>0.037212</td>\n",
       "      <td>0.016155</td>\n",
       "      <td>-0.006501</td>\n",
       "      <td>0.018861</td>\n",
       "      <td>0.002269</td>\n",
       "      <td>0.011324</td>\n",
       "      <td>0.009566</td>\n",
       "      <td>0.024662</td>\n",
       "      <td>0.003660</td>\n",
       "      <td>0.018395</td>\n",
       "      <td>0.010282</td>\n",
       "      <td>0.021946</td>\n",
       "      <td>0.008787</td>\n",
       "      <td>0.003671</td>\n",
       "      <td>0.015559</td>\n",
       "    </tr>\n",
       "    <tr>\n",
       "      <th>MA</th>\n",
       "      <td>0.010865</td>\n",
       "      <td>0.040435</td>\n",
       "      <td>0.025495</td>\n",
       "      <td>0.129913</td>\n",
       "      <td>0.008331</td>\n",
       "      <td>0.032840</td>\n",
       "      <td>0.013766</td>\n",
       "      <td>-0.025942</td>\n",
       "      <td>0.018757</td>\n",
       "      <td>0.020274</td>\n",
       "      <td>0.012592</td>\n",
       "      <td>0.047964</td>\n",
       "      <td>0.042987</td>\n",
       "      <td>0.027444</td>\n",
       "      <td>0.098294</td>\n",
       "      <td>0.044054</td>\n",
       "      <td>0.010899</td>\n",
       "      <td>0.013416</td>\n",
       "      <td>0.040533</td>\n",
       "      <td>0.017995</td>\n",
       "    </tr>\n",
       "    <tr>\n",
       "      <th>MSFT</th>\n",
       "      <td>0.039993</td>\n",
       "      <td>0.037940</td>\n",
       "      <td>0.022884</td>\n",
       "      <td>0.008331</td>\n",
       "      <td>0.065237</td>\n",
       "      <td>0.089283</td>\n",
       "      <td>0.022864</td>\n",
       "      <td>-0.018821</td>\n",
       "      <td>0.033346</td>\n",
       "      <td>-0.001568</td>\n",
       "      <td>0.002797</td>\n",
       "      <td>0.004023</td>\n",
       "      <td>0.078434</td>\n",
       "      <td>-0.003993</td>\n",
       "      <td>0.003577</td>\n",
       "      <td>0.010030</td>\n",
       "      <td>0.051307</td>\n",
       "      <td>-0.001555</td>\n",
       "      <td>-0.000343</td>\n",
       "      <td>0.022863</td>\n",
       "    </tr>\n",
       "    <tr>\n",
       "      <th>NVDA</th>\n",
       "      <td>0.081306</td>\n",
       "      <td>0.071235</td>\n",
       "      <td>0.037212</td>\n",
       "      <td>0.032840</td>\n",
       "      <td>0.089283</td>\n",
       "      <td>0.354876</td>\n",
       "      <td>0.052871</td>\n",
       "      <td>-0.048652</td>\n",
       "      <td>0.100484</td>\n",
       "      <td>-0.003756</td>\n",
       "      <td>-0.009097</td>\n",
       "      <td>0.033804</td>\n",
       "      <td>0.188497</td>\n",
       "      <td>0.007134</td>\n",
       "      <td>0.041099</td>\n",
       "      <td>0.023697</td>\n",
       "      <td>0.083843</td>\n",
       "      <td>-0.013139</td>\n",
       "      <td>0.017036</td>\n",
       "      <td>0.013277</td>\n",
       "    </tr>\n",
       "    <tr>\n",
       "      <th>HD</th>\n",
       "      <td>0.020419</td>\n",
       "      <td>0.007342</td>\n",
       "      <td>0.016155</td>\n",
       "      <td>0.013766</td>\n",
       "      <td>0.022864</td>\n",
       "      <td>0.052871</td>\n",
       "      <td>0.058241</td>\n",
       "      <td>-0.022702</td>\n",
       "      <td>0.014528</td>\n",
       "      <td>0.000238</td>\n",
       "      <td>0.006162</td>\n",
       "      <td>0.005143</td>\n",
       "      <td>0.028978</td>\n",
       "      <td>0.014535</td>\n",
       "      <td>0.013316</td>\n",
       "      <td>0.011541</td>\n",
       "      <td>0.022639</td>\n",
       "      <td>0.002178</td>\n",
       "      <td>0.007904</td>\n",
       "      <td>0.003715</td>\n",
       "    </tr>\n",
       "    <tr>\n",
       "      <th>PFE</th>\n",
       "      <td>-0.021341</td>\n",
       "      <td>-0.034076</td>\n",
       "      <td>-0.006501</td>\n",
       "      <td>-0.025942</td>\n",
       "      <td>-0.018821</td>\n",
       "      <td>-0.048652</td>\n",
       "      <td>-0.022702</td>\n",
       "      <td>0.177019</td>\n",
       "      <td>-0.027410</td>\n",
       "      <td>-0.012057</td>\n",
       "      <td>0.005692</td>\n",
       "      <td>-0.036887</td>\n",
       "      <td>-0.055088</td>\n",
       "      <td>-0.022267</td>\n",
       "      <td>-0.015947</td>\n",
       "      <td>-0.023313</td>\n",
       "      <td>-0.021314</td>\n",
       "      <td>0.006779</td>\n",
       "      <td>-0.034283</td>\n",
       "      <td>-0.002152</td>\n",
       "    </tr>\n",
       "    <tr>\n",
       "      <th>AMZN</th>\n",
       "      <td>0.041714</td>\n",
       "      <td>0.039219</td>\n",
       "      <td>0.018861</td>\n",
       "      <td>0.018757</td>\n",
       "      <td>0.033346</td>\n",
       "      <td>0.100484</td>\n",
       "      <td>0.014528</td>\n",
       "      <td>-0.027410</td>\n",
       "      <td>0.066280</td>\n",
       "      <td>-0.001549</td>\n",
       "      <td>-0.003372</td>\n",
       "      <td>0.013645</td>\n",
       "      <td>0.041839</td>\n",
       "      <td>-0.001034</td>\n",
       "      <td>0.010257</td>\n",
       "      <td>0.017323</td>\n",
       "      <td>0.039699</td>\n",
       "      <td>-0.003340</td>\n",
       "      <td>0.002833</td>\n",
       "      <td>0.002798</td>\n",
       "    </tr>\n",
       "    <tr>\n",
       "      <th>BRK-B</th>\n",
       "      <td>0.000136</td>\n",
       "      <td>0.009335</td>\n",
       "      <td>0.002269</td>\n",
       "      <td>0.020274</td>\n",
       "      <td>-0.001568</td>\n",
       "      <td>-0.003756</td>\n",
       "      <td>0.000238</td>\n",
       "      <td>-0.012057</td>\n",
       "      <td>-0.001549</td>\n",
       "      <td>0.022978</td>\n",
       "      <td>0.009790</td>\n",
       "      <td>0.023074</td>\n",
       "      <td>-0.005053</td>\n",
       "      <td>0.022736</td>\n",
       "      <td>0.018162</td>\n",
       "      <td>0.010155</td>\n",
       "      <td>0.001378</td>\n",
       "      <td>0.009128</td>\n",
       "      <td>0.028815</td>\n",
       "      <td>0.007915</td>\n",
       "    </tr>\n",
       "    <tr>\n",
       "      <th>PG</th>\n",
       "      <td>-0.002699</td>\n",
       "      <td>0.000548</td>\n",
       "      <td>0.011324</td>\n",
       "      <td>0.012592</td>\n",
       "      <td>0.002797</td>\n",
       "      <td>-0.009097</td>\n",
       "      <td>0.006162</td>\n",
       "      <td>0.005692</td>\n",
       "      <td>-0.003372</td>\n",
       "      <td>0.009790</td>\n",
       "      <td>0.020747</td>\n",
       "      <td>0.008562</td>\n",
       "      <td>-0.014879</td>\n",
       "      <td>0.005781</td>\n",
       "      <td>0.007860</td>\n",
       "      <td>0.002047</td>\n",
       "      <td>0.002965</td>\n",
       "      <td>0.014588</td>\n",
       "      <td>0.008013</td>\n",
       "      <td>0.008888</td>\n",
       "    </tr>\n",
       "    <tr>\n",
       "      <th>XOM</th>\n",
       "      <td>0.008210</td>\n",
       "      <td>0.016634</td>\n",
       "      <td>0.009566</td>\n",
       "      <td>0.047964</td>\n",
       "      <td>0.004023</td>\n",
       "      <td>0.033804</td>\n",
       "      <td>0.005143</td>\n",
       "      <td>-0.036887</td>\n",
       "      <td>0.013645</td>\n",
       "      <td>0.023074</td>\n",
       "      <td>0.008562</td>\n",
       "      <td>0.076084</td>\n",
       "      <td>0.020601</td>\n",
       "      <td>0.032106</td>\n",
       "      <td>0.042525</td>\n",
       "      <td>0.024406</td>\n",
       "      <td>0.007619</td>\n",
       "      <td>0.002300</td>\n",
       "      <td>0.047495</td>\n",
       "      <td>0.014596</td>\n",
       "    </tr>\n",
       "    <tr>\n",
       "      <th>TSLA</th>\n",
       "      <td>0.081903</td>\n",
       "      <td>0.070407</td>\n",
       "      <td>0.024662</td>\n",
       "      <td>0.042987</td>\n",
       "      <td>0.078434</td>\n",
       "      <td>0.188497</td>\n",
       "      <td>0.028978</td>\n",
       "      <td>-0.055088</td>\n",
       "      <td>0.041839</td>\n",
       "      <td>-0.005053</td>\n",
       "      <td>-0.014879</td>\n",
       "      <td>0.020601</td>\n",
       "      <td>0.515711</td>\n",
       "      <td>0.012343</td>\n",
       "      <td>0.039617</td>\n",
       "      <td>0.052436</td>\n",
       "      <td>0.043748</td>\n",
       "      <td>-0.017519</td>\n",
       "      <td>0.027099</td>\n",
       "      <td>0.013973</td>\n",
       "    </tr>\n",
       "    <tr>\n",
       "      <th>JPM</th>\n",
       "      <td>0.005251</td>\n",
       "      <td>0.003429</td>\n",
       "      <td>0.003660</td>\n",
       "      <td>0.027444</td>\n",
       "      <td>-0.003993</td>\n",
       "      <td>0.007134</td>\n",
       "      <td>0.014535</td>\n",
       "      <td>-0.022267</td>\n",
       "      <td>-0.001034</td>\n",
       "      <td>0.022736</td>\n",
       "      <td>0.005781</td>\n",
       "      <td>0.032106</td>\n",
       "      <td>0.012343</td>\n",
       "      <td>0.056659</td>\n",
       "      <td>0.025793</td>\n",
       "      <td>0.018758</td>\n",
       "      <td>0.003235</td>\n",
       "      <td>0.006472</td>\n",
       "      <td>0.051533</td>\n",
       "      <td>0.012274</td>\n",
       "    </tr>\n",
       "    <tr>\n",
       "      <th>V</th>\n",
       "      <td>0.010712</td>\n",
       "      <td>0.034626</td>\n",
       "      <td>0.018395</td>\n",
       "      <td>0.098294</td>\n",
       "      <td>0.003577</td>\n",
       "      <td>0.041099</td>\n",
       "      <td>0.013316</td>\n",
       "      <td>-0.015947</td>\n",
       "      <td>0.010257</td>\n",
       "      <td>0.018162</td>\n",
       "      <td>0.007860</td>\n",
       "      <td>0.042525</td>\n",
       "      <td>0.039617</td>\n",
       "      <td>0.025793</td>\n",
       "      <td>0.097985</td>\n",
       "      <td>0.044888</td>\n",
       "      <td>0.004174</td>\n",
       "      <td>0.007931</td>\n",
       "      <td>0.034852</td>\n",
       "      <td>0.012377</td>\n",
       "    </tr>\n",
       "    <tr>\n",
       "      <th>DIS</th>\n",
       "      <td>0.012826</td>\n",
       "      <td>0.029683</td>\n",
       "      <td>0.010282</td>\n",
       "      <td>0.044054</td>\n",
       "      <td>0.010030</td>\n",
       "      <td>0.023697</td>\n",
       "      <td>0.011541</td>\n",
       "      <td>-0.023313</td>\n",
       "      <td>0.017323</td>\n",
       "      <td>0.010155</td>\n",
       "      <td>0.002047</td>\n",
       "      <td>0.024406</td>\n",
       "      <td>0.052436</td>\n",
       "      <td>0.018758</td>\n",
       "      <td>0.044888</td>\n",
       "      <td>0.064854</td>\n",
       "      <td>0.011925</td>\n",
       "      <td>0.003500</td>\n",
       "      <td>0.019232</td>\n",
       "      <td>0.019587</td>\n",
       "    </tr>\n",
       "    <tr>\n",
       "      <th>GOOGL</th>\n",
       "      <td>0.031423</td>\n",
       "      <td>0.036417</td>\n",
       "      <td>0.021946</td>\n",
       "      <td>0.010899</td>\n",
       "      <td>0.051307</td>\n",
       "      <td>0.083843</td>\n",
       "      <td>0.022639</td>\n",
       "      <td>-0.021314</td>\n",
       "      <td>0.039699</td>\n",
       "      <td>0.001378</td>\n",
       "      <td>0.002965</td>\n",
       "      <td>0.007619</td>\n",
       "      <td>0.043748</td>\n",
       "      <td>0.003235</td>\n",
       "      <td>0.004174</td>\n",
       "      <td>0.011925</td>\n",
       "      <td>0.063281</td>\n",
       "      <td>0.001318</td>\n",
       "      <td>0.005473</td>\n",
       "      <td>0.019005</td>\n",
       "    </tr>\n",
       "    <tr>\n",
       "      <th>JNJ</th>\n",
       "      <td>-0.003238</td>\n",
       "      <td>0.005036</td>\n",
       "      <td>0.008787</td>\n",
       "      <td>0.013416</td>\n",
       "      <td>-0.001555</td>\n",
       "      <td>-0.013139</td>\n",
       "      <td>0.002178</td>\n",
       "      <td>0.006779</td>\n",
       "      <td>-0.003340</td>\n",
       "      <td>0.009128</td>\n",
       "      <td>0.014588</td>\n",
       "      <td>0.002300</td>\n",
       "      <td>-0.017519</td>\n",
       "      <td>0.006472</td>\n",
       "      <td>0.007931</td>\n",
       "      <td>0.003500</td>\n",
       "      <td>0.001318</td>\n",
       "      <td>0.022242</td>\n",
       "      <td>0.005681</td>\n",
       "      <td>0.005765</td>\n",
       "    </tr>\n",
       "    <tr>\n",
       "      <th>BAC</th>\n",
       "      <td>0.005305</td>\n",
       "      <td>0.008607</td>\n",
       "      <td>0.003671</td>\n",
       "      <td>0.040533</td>\n",
       "      <td>-0.000343</td>\n",
       "      <td>0.017036</td>\n",
       "      <td>0.007904</td>\n",
       "      <td>-0.034283</td>\n",
       "      <td>0.002833</td>\n",
       "      <td>0.028815</td>\n",
       "      <td>0.008013</td>\n",
       "      <td>0.047495</td>\n",
       "      <td>0.027099</td>\n",
       "      <td>0.051533</td>\n",
       "      <td>0.034852</td>\n",
       "      <td>0.019232</td>\n",
       "      <td>0.005473</td>\n",
       "      <td>0.005681</td>\n",
       "      <td>0.064756</td>\n",
       "      <td>0.014238</td>\n",
       "    </tr>\n",
       "    <tr>\n",
       "      <th>CSCO</th>\n",
       "      <td>0.011880</td>\n",
       "      <td>0.016598</td>\n",
       "      <td>0.015559</td>\n",
       "      <td>0.017995</td>\n",
       "      <td>0.022863</td>\n",
       "      <td>0.013277</td>\n",
       "      <td>0.003715</td>\n",
       "      <td>-0.002152</td>\n",
       "      <td>0.002798</td>\n",
       "      <td>0.007915</td>\n",
       "      <td>0.008888</td>\n",
       "      <td>0.014596</td>\n",
       "      <td>0.013973</td>\n",
       "      <td>0.012274</td>\n",
       "      <td>0.012377</td>\n",
       "      <td>0.019587</td>\n",
       "      <td>0.019005</td>\n",
       "      <td>0.005765</td>\n",
       "      <td>0.014238</td>\n",
       "      <td>0.054527</td>\n",
       "    </tr>\n",
       "  </tbody>\n",
       "</table>\n",
       "</div>"
      ],
      "text/plain": [
       "           AAPL        FB       UNH        MA      MSFT      NVDA        HD  \\\n",
       "AAPL   0.065441  0.031073  0.020744  0.010865  0.039993  0.081306  0.020419   \n",
       "FB     0.031073  0.104613  0.008503  0.040435  0.037940  0.071235  0.007342   \n",
       "UNH    0.020744  0.008503  0.044678  0.025495  0.022884  0.037212  0.016155   \n",
       "MA     0.010865  0.040435  0.025495  0.129913  0.008331  0.032840  0.013766   \n",
       "MSFT   0.039993  0.037940  0.022884  0.008331  0.065237  0.089283  0.022864   \n",
       "NVDA   0.081306  0.071235  0.037212  0.032840  0.089283  0.354876  0.052871   \n",
       "HD     0.020419  0.007342  0.016155  0.013766  0.022864  0.052871  0.058241   \n",
       "PFE   -0.021341 -0.034076 -0.006501 -0.025942 -0.018821 -0.048652 -0.022702   \n",
       "AMZN   0.041714  0.039219  0.018861  0.018757  0.033346  0.100484  0.014528   \n",
       "BRK-B  0.000136  0.009335  0.002269  0.020274 -0.001568 -0.003756  0.000238   \n",
       "PG    -0.002699  0.000548  0.011324  0.012592  0.002797 -0.009097  0.006162   \n",
       "XOM    0.008210  0.016634  0.009566  0.047964  0.004023  0.033804  0.005143   \n",
       "TSLA   0.081903  0.070407  0.024662  0.042987  0.078434  0.188497  0.028978   \n",
       "JPM    0.005251  0.003429  0.003660  0.027444 -0.003993  0.007134  0.014535   \n",
       "V      0.010712  0.034626  0.018395  0.098294  0.003577  0.041099  0.013316   \n",
       "DIS    0.012826  0.029683  0.010282  0.044054  0.010030  0.023697  0.011541   \n",
       "GOOGL  0.031423  0.036417  0.021946  0.010899  0.051307  0.083843  0.022639   \n",
       "JNJ   -0.003238  0.005036  0.008787  0.013416 -0.001555 -0.013139  0.002178   \n",
       "BAC    0.005305  0.008607  0.003671  0.040533 -0.000343  0.017036  0.007904   \n",
       "CSCO   0.011880  0.016598  0.015559  0.017995  0.022863  0.013277  0.003715   \n",
       "\n",
       "            PFE      AMZN     BRK-B        PG       XOM      TSLA       JPM  \\\n",
       "AAPL  -0.021341  0.041714  0.000136 -0.002699  0.008210  0.081903  0.005251   \n",
       "FB    -0.034076  0.039219  0.009335  0.000548  0.016634  0.070407  0.003429   \n",
       "UNH   -0.006501  0.018861  0.002269  0.011324  0.009566  0.024662  0.003660   \n",
       "MA    -0.025942  0.018757  0.020274  0.012592  0.047964  0.042987  0.027444   \n",
       "MSFT  -0.018821  0.033346 -0.001568  0.002797  0.004023  0.078434 -0.003993   \n",
       "NVDA  -0.048652  0.100484 -0.003756 -0.009097  0.033804  0.188497  0.007134   \n",
       "HD    -0.022702  0.014528  0.000238  0.006162  0.005143  0.028978  0.014535   \n",
       "PFE    0.177019 -0.027410 -0.012057  0.005692 -0.036887 -0.055088 -0.022267   \n",
       "AMZN  -0.027410  0.066280 -0.001549 -0.003372  0.013645  0.041839 -0.001034   \n",
       "BRK-B -0.012057 -0.001549  0.022978  0.009790  0.023074 -0.005053  0.022736   \n",
       "PG     0.005692 -0.003372  0.009790  0.020747  0.008562 -0.014879  0.005781   \n",
       "XOM   -0.036887  0.013645  0.023074  0.008562  0.076084  0.020601  0.032106   \n",
       "TSLA  -0.055088  0.041839 -0.005053 -0.014879  0.020601  0.515711  0.012343   \n",
       "JPM   -0.022267 -0.001034  0.022736  0.005781  0.032106  0.012343  0.056659   \n",
       "V     -0.015947  0.010257  0.018162  0.007860  0.042525  0.039617  0.025793   \n",
       "DIS   -0.023313  0.017323  0.010155  0.002047  0.024406  0.052436  0.018758   \n",
       "GOOGL -0.021314  0.039699  0.001378  0.002965  0.007619  0.043748  0.003235   \n",
       "JNJ    0.006779 -0.003340  0.009128  0.014588  0.002300 -0.017519  0.006472   \n",
       "BAC   -0.034283  0.002833  0.028815  0.008013  0.047495  0.027099  0.051533   \n",
       "CSCO  -0.002152  0.002798  0.007915  0.008888  0.014596  0.013973  0.012274   \n",
       "\n",
       "              V       DIS     GOOGL       JNJ       BAC      CSCO  \n",
       "AAPL   0.010712  0.012826  0.031423 -0.003238  0.005305  0.011880  \n",
       "FB     0.034626  0.029683  0.036417  0.005036  0.008607  0.016598  \n",
       "UNH    0.018395  0.010282  0.021946  0.008787  0.003671  0.015559  \n",
       "MA     0.098294  0.044054  0.010899  0.013416  0.040533  0.017995  \n",
       "MSFT   0.003577  0.010030  0.051307 -0.001555 -0.000343  0.022863  \n",
       "NVDA   0.041099  0.023697  0.083843 -0.013139  0.017036  0.013277  \n",
       "HD     0.013316  0.011541  0.022639  0.002178  0.007904  0.003715  \n",
       "PFE   -0.015947 -0.023313 -0.021314  0.006779 -0.034283 -0.002152  \n",
       "AMZN   0.010257  0.017323  0.039699 -0.003340  0.002833  0.002798  \n",
       "BRK-B  0.018162  0.010155  0.001378  0.009128  0.028815  0.007915  \n",
       "PG     0.007860  0.002047  0.002965  0.014588  0.008013  0.008888  \n",
       "XOM    0.042525  0.024406  0.007619  0.002300  0.047495  0.014596  \n",
       "TSLA   0.039617  0.052436  0.043748 -0.017519  0.027099  0.013973  \n",
       "JPM    0.025793  0.018758  0.003235  0.006472  0.051533  0.012274  \n",
       "V      0.097985  0.044888  0.004174  0.007931  0.034852  0.012377  \n",
       "DIS    0.044888  0.064854  0.011925  0.003500  0.019232  0.019587  \n",
       "GOOGL  0.004174  0.011925  0.063281  0.001318  0.005473  0.019005  \n",
       "JNJ    0.007931  0.003500  0.001318  0.022242  0.005681  0.005765  \n",
       "BAC    0.034852  0.019232  0.005473  0.005681  0.064756  0.014238  \n",
       "CSCO   0.012377  0.019587  0.019005  0.005765  0.014238  0.054527  "
      ]
     },
     "execution_count": 106,
     "metadata": {},
     "output_type": "execute_result"
    }
   ],
   "source": [
    "covariance"
   ]
  },
  {
   "cell_type": "code",
   "execution_count": 107,
   "id": "8ef15db4",
   "metadata": {},
   "outputs": [
    {
     "data": {
      "text/plain": [
       "ret       0.146135\n",
       "vol       0.119725\n",
       "sharpe    1.199701\n",
       "dtype: float64"
      ]
     },
     "execution_count": 107,
     "metadata": {},
     "output_type": "execute_result"
    }
   ],
   "source": [
    "efport, tangency, assetWeight = effFrontier.effFrontier(stockMeans, covariance, scope=(0.01,0.3,100),rf=0.0025,shortValid = True)\n",
    "tangency"
   ]
  },
  {
   "cell_type": "code",
   "execution_count": 108,
   "id": "cab264dc",
   "metadata": {},
   "outputs": [
    {
     "data": {
      "application/vnd.plotly.v1+json": {
       "config": {
        "plotlyServerURL": "https://plot.ly"
       },
       "data": [
        {
         "hovertemplate": "Expected Volatility=%{x}<br>Expected Return=%{y}<br>Sharpe Ratio=%{marker.color}<extra></extra>",
         "legendgroup": "",
         "marker": {
          "color": [
           0.0654,
           0.0927,
           0.1212,
           0.1507,
           0.1814,
           0.2131,
           0.2459,
           0.2798,
           0.3147,
           0.3505,
           0.3872,
           0.4247,
           0.4629,
           0.5017,
           0.5408,
           0.5802,
           0.6196,
           0.6589,
           0.6978,
           0.7362,
           0.7737,
           0.8103,
           0.8457,
           0.8797,
           0.9121,
           0.9429,
           0.9718,
           0.9989,
           1.024,
           1.0472,
           1.0683,
           1.0876,
           1.105,
           1.1205,
           1.1343,
           1.1464,
           1.157,
           1.1661,
           1.1739,
           1.1804,
           1.1858,
           1.1902,
           1.1936,
           1.1962,
           1.198,
           1.1991,
           1.1996,
           1.1996,
           1.1991,
           1.1982,
           1.1969,
           1.1953,
           1.1934,
           1.1913,
           1.189,
           1.1865,
           1.1838,
           1.181,
           1.1781,
           1.1751,
           1.1721,
           1.1689,
           1.1658,
           1.1626,
           1.1594,
           1.1562,
           1.1529,
           1.1497,
           1.1465,
           1.1433,
           1.1401,
           1.137,
           1.1338,
           1.1307,
           1.1276,
           1.1246,
           1.1216,
           1.1186,
           1.1157,
           1.1128,
           1.11,
           1.1072,
           1.1044,
           1.1017,
           1.099,
           1.0963,
           1.0937,
           1.0911,
           1.0886,
           1.0861,
           1.0837,
           1.0813,
           1.0789,
           1.0766,
           1.0743,
           1.072,
           1.0698,
           1.0676,
           1.0655,
           1.0634
          ],
          "coloraxis": "coloraxis",
          "symbol": "cross"
         },
         "mode": "markers",
         "name": "",
         "orientation": "v",
         "showlegend": false,
         "type": "scatter",
         "x": [
          0.1148,
          0.1125,
          0.1102,
          0.1081,
          0.1059,
          0.1039,
          0.102,
          0.1001,
          0.0983,
          0.0966,
          0.095,
          0.0935,
          0.0921,
          0.0909,
          0.0897,
          0.0887,
          0.0877,
          0.087,
          0.0863,
          0.0858,
          0.0854,
          0.0852,
          0.0851,
          0.0851,
          0.0853,
          0.0856,
          0.0861,
          0.0867,
          0.0874,
          0.0883,
          0.0893,
          0.0904,
          0.0916,
          0.093,
          0.0944,
          0.096,
          0.0976,
          0.0994,
          0.1012,
          0.1031,
          0.1051,
          0.1072,
          0.1094,
          0.1116,
          0.1138,
          0.1162,
          0.1186,
          0.121,
          0.1235,
          0.126,
          0.1286,
          0.1313,
          0.1339,
          0.1366,
          0.1393,
          0.1421,
          0.1449,
          0.1477,
          0.1506,
          0.1535,
          0.1564,
          0.1593,
          0.1622,
          0.1652,
          0.1682,
          0.1712,
          0.1742,
          0.1772,
          0.1803,
          0.1833,
          0.1864,
          0.1895,
          0.1926,
          0.1958,
          0.1989,
          0.202,
          0.2052,
          0.2083,
          0.2115,
          0.2147,
          0.2179,
          0.2211,
          0.2243,
          0.2275,
          0.2307,
          0.234,
          0.2372,
          0.2404,
          0.2437,
          0.2469,
          0.2502,
          0.2535,
          0.2567,
          0.26,
          0.2633,
          0.2666,
          0.2699,
          0.2732,
          0.2765,
          0.2798
         ],
         "xaxis": "x",
         "y": [
          0.01,
          0.0129,
          0.0159,
          0.0188,
          0.0217,
          0.0246,
          0.0276,
          0.0305,
          0.0334,
          0.0364,
          0.0393,
          0.0422,
          0.0452,
          0.0481,
          0.051,
          0.0539,
          0.0569,
          0.0598,
          0.0627,
          0.0657,
          0.0686,
          0.0715,
          0.0744,
          0.0774,
          0.0803,
          0.0832,
          0.0862,
          0.0891,
          0.092,
          0.0949,
          0.0979,
          0.1008,
          0.1037,
          0.1067,
          0.1096,
          0.1125,
          0.1155,
          0.1184,
          0.1213,
          0.1242,
          0.1272,
          0.1301,
          0.133,
          0.136,
          0.1389,
          0.1418,
          0.1447,
          0.1477,
          0.1506,
          0.1535,
          0.1565,
          0.1594,
          0.1623,
          0.1653,
          0.1682,
          0.1711,
          0.174,
          0.177,
          0.1799,
          0.1828,
          0.1858,
          0.1887,
          0.1916,
          0.1945,
          0.1975,
          0.2004,
          0.2033,
          0.2063,
          0.2092,
          0.2121,
          0.2151,
          0.218,
          0.2209,
          0.2238,
          0.2268,
          0.2297,
          0.2326,
          0.2356,
          0.2385,
          0.2414,
          0.2443,
          0.2473,
          0.2502,
          0.2531,
          0.2561,
          0.259,
          0.2619,
          0.2648,
          0.2678,
          0.2707,
          0.2736,
          0.2766,
          0.2795,
          0.2824,
          0.2854,
          0.2883,
          0.2912,
          0.2941,
          0.2971,
          0.3
         ],
         "yaxis": "y"
        },
        {
         "marker": {
          "color": "red",
          "size": 20,
          "symbol": "star"
         },
         "mode": "markers",
         "name": "Max Sharpe",
         "type": "scatter",
         "x": [
          0.11972541824832426
         ],
         "y": [
          0.1461346947473839
         ]
        }
       ],
       "layout": {
        "coloraxis": {
         "colorbar": {
          "title": {
           "text": "Sharpe Ratio"
          }
         },
         "colorscale": [
          [
           0,
           "#0d0887"
          ],
          [
           0.1111111111111111,
           "#46039f"
          ],
          [
           0.2222222222222222,
           "#7201a8"
          ],
          [
           0.3333333333333333,
           "#9c179e"
          ],
          [
           0.4444444444444444,
           "#bd3786"
          ],
          [
           0.5555555555555556,
           "#d8576b"
          ],
          [
           0.6666666666666666,
           "#ed7953"
          ],
          [
           0.7777777777777778,
           "#fb9f3a"
          ],
          [
           0.8888888888888888,
           "#fdca26"
          ],
          [
           1,
           "#f0f921"
          ]
         ]
        },
        "height": 600,
        "legend": {
         "tracegroupgap": 0
        },
        "showlegend": false,
        "template": {
         "data": {
          "bar": [
           {
            "error_x": {
             "color": "#f2f5fa"
            },
            "error_y": {
             "color": "#f2f5fa"
            },
            "marker": {
             "line": {
              "color": "rgb(17,17,17)",
              "width": 0.5
             },
             "pattern": {
              "fillmode": "overlay",
              "size": 10,
              "solidity": 0.2
             }
            },
            "type": "bar"
           }
          ],
          "barpolar": [
           {
            "marker": {
             "line": {
              "color": "rgb(17,17,17)",
              "width": 0.5
             },
             "pattern": {
              "fillmode": "overlay",
              "size": 10,
              "solidity": 0.2
             }
            },
            "type": "barpolar"
           }
          ],
          "carpet": [
           {
            "aaxis": {
             "endlinecolor": "#A2B1C6",
             "gridcolor": "#506784",
             "linecolor": "#506784",
             "minorgridcolor": "#506784",
             "startlinecolor": "#A2B1C6"
            },
            "baxis": {
             "endlinecolor": "#A2B1C6",
             "gridcolor": "#506784",
             "linecolor": "#506784",
             "minorgridcolor": "#506784",
             "startlinecolor": "#A2B1C6"
            },
            "type": "carpet"
           }
          ],
          "choropleth": [
           {
            "colorbar": {
             "outlinewidth": 0,
             "ticks": ""
            },
            "type": "choropleth"
           }
          ],
          "contour": [
           {
            "colorbar": {
             "outlinewidth": 0,
             "ticks": ""
            },
            "colorscale": [
             [
              0,
              "#0d0887"
             ],
             [
              0.1111111111111111,
              "#46039f"
             ],
             [
              0.2222222222222222,
              "#7201a8"
             ],
             [
              0.3333333333333333,
              "#9c179e"
             ],
             [
              0.4444444444444444,
              "#bd3786"
             ],
             [
              0.5555555555555556,
              "#d8576b"
             ],
             [
              0.6666666666666666,
              "#ed7953"
             ],
             [
              0.7777777777777778,
              "#fb9f3a"
             ],
             [
              0.8888888888888888,
              "#fdca26"
             ],
             [
              1,
              "#f0f921"
             ]
            ],
            "type": "contour"
           }
          ],
          "contourcarpet": [
           {
            "colorbar": {
             "outlinewidth": 0,
             "ticks": ""
            },
            "type": "contourcarpet"
           }
          ],
          "heatmap": [
           {
            "colorbar": {
             "outlinewidth": 0,
             "ticks": ""
            },
            "colorscale": [
             [
              0,
              "#0d0887"
             ],
             [
              0.1111111111111111,
              "#46039f"
             ],
             [
              0.2222222222222222,
              "#7201a8"
             ],
             [
              0.3333333333333333,
              "#9c179e"
             ],
             [
              0.4444444444444444,
              "#bd3786"
             ],
             [
              0.5555555555555556,
              "#d8576b"
             ],
             [
              0.6666666666666666,
              "#ed7953"
             ],
             [
              0.7777777777777778,
              "#fb9f3a"
             ],
             [
              0.8888888888888888,
              "#fdca26"
             ],
             [
              1,
              "#f0f921"
             ]
            ],
            "type": "heatmap"
           }
          ],
          "heatmapgl": [
           {
            "colorbar": {
             "outlinewidth": 0,
             "ticks": ""
            },
            "colorscale": [
             [
              0,
              "#0d0887"
             ],
             [
              0.1111111111111111,
              "#46039f"
             ],
             [
              0.2222222222222222,
              "#7201a8"
             ],
             [
              0.3333333333333333,
              "#9c179e"
             ],
             [
              0.4444444444444444,
              "#bd3786"
             ],
             [
              0.5555555555555556,
              "#d8576b"
             ],
             [
              0.6666666666666666,
              "#ed7953"
             ],
             [
              0.7777777777777778,
              "#fb9f3a"
             ],
             [
              0.8888888888888888,
              "#fdca26"
             ],
             [
              1,
              "#f0f921"
             ]
            ],
            "type": "heatmapgl"
           }
          ],
          "histogram": [
           {
            "marker": {
             "pattern": {
              "fillmode": "overlay",
              "size": 10,
              "solidity": 0.2
             }
            },
            "type": "histogram"
           }
          ],
          "histogram2d": [
           {
            "colorbar": {
             "outlinewidth": 0,
             "ticks": ""
            },
            "colorscale": [
             [
              0,
              "#0d0887"
             ],
             [
              0.1111111111111111,
              "#46039f"
             ],
             [
              0.2222222222222222,
              "#7201a8"
             ],
             [
              0.3333333333333333,
              "#9c179e"
             ],
             [
              0.4444444444444444,
              "#bd3786"
             ],
             [
              0.5555555555555556,
              "#d8576b"
             ],
             [
              0.6666666666666666,
              "#ed7953"
             ],
             [
              0.7777777777777778,
              "#fb9f3a"
             ],
             [
              0.8888888888888888,
              "#fdca26"
             ],
             [
              1,
              "#f0f921"
             ]
            ],
            "type": "histogram2d"
           }
          ],
          "histogram2dcontour": [
           {
            "colorbar": {
             "outlinewidth": 0,
             "ticks": ""
            },
            "colorscale": [
             [
              0,
              "#0d0887"
             ],
             [
              0.1111111111111111,
              "#46039f"
             ],
             [
              0.2222222222222222,
              "#7201a8"
             ],
             [
              0.3333333333333333,
              "#9c179e"
             ],
             [
              0.4444444444444444,
              "#bd3786"
             ],
             [
              0.5555555555555556,
              "#d8576b"
             ],
             [
              0.6666666666666666,
              "#ed7953"
             ],
             [
              0.7777777777777778,
              "#fb9f3a"
             ],
             [
              0.8888888888888888,
              "#fdca26"
             ],
             [
              1,
              "#f0f921"
             ]
            ],
            "type": "histogram2dcontour"
           }
          ],
          "mesh3d": [
           {
            "colorbar": {
             "outlinewidth": 0,
             "ticks": ""
            },
            "type": "mesh3d"
           }
          ],
          "parcoords": [
           {
            "line": {
             "colorbar": {
              "outlinewidth": 0,
              "ticks": ""
             }
            },
            "type": "parcoords"
           }
          ],
          "pie": [
           {
            "automargin": true,
            "type": "pie"
           }
          ],
          "scatter": [
           {
            "marker": {
             "line": {
              "color": "#283442"
             }
            },
            "type": "scatter"
           }
          ],
          "scatter3d": [
           {
            "line": {
             "colorbar": {
              "outlinewidth": 0,
              "ticks": ""
             }
            },
            "marker": {
             "colorbar": {
              "outlinewidth": 0,
              "ticks": ""
             }
            },
            "type": "scatter3d"
           }
          ],
          "scattercarpet": [
           {
            "marker": {
             "colorbar": {
              "outlinewidth": 0,
              "ticks": ""
             }
            },
            "type": "scattercarpet"
           }
          ],
          "scattergeo": [
           {
            "marker": {
             "colorbar": {
              "outlinewidth": 0,
              "ticks": ""
             }
            },
            "type": "scattergeo"
           }
          ],
          "scattergl": [
           {
            "marker": {
             "line": {
              "color": "#283442"
             }
            },
            "type": "scattergl"
           }
          ],
          "scattermapbox": [
           {
            "marker": {
             "colorbar": {
              "outlinewidth": 0,
              "ticks": ""
             }
            },
            "type": "scattermapbox"
           }
          ],
          "scatterpolar": [
           {
            "marker": {
             "colorbar": {
              "outlinewidth": 0,
              "ticks": ""
             }
            },
            "type": "scatterpolar"
           }
          ],
          "scatterpolargl": [
           {
            "marker": {
             "colorbar": {
              "outlinewidth": 0,
              "ticks": ""
             }
            },
            "type": "scatterpolargl"
           }
          ],
          "scatterternary": [
           {
            "marker": {
             "colorbar": {
              "outlinewidth": 0,
              "ticks": ""
             }
            },
            "type": "scatterternary"
           }
          ],
          "surface": [
           {
            "colorbar": {
             "outlinewidth": 0,
             "ticks": ""
            },
            "colorscale": [
             [
              0,
              "#0d0887"
             ],
             [
              0.1111111111111111,
              "#46039f"
             ],
             [
              0.2222222222222222,
              "#7201a8"
             ],
             [
              0.3333333333333333,
              "#9c179e"
             ],
             [
              0.4444444444444444,
              "#bd3786"
             ],
             [
              0.5555555555555556,
              "#d8576b"
             ],
             [
              0.6666666666666666,
              "#ed7953"
             ],
             [
              0.7777777777777778,
              "#fb9f3a"
             ],
             [
              0.8888888888888888,
              "#fdca26"
             ],
             [
              1,
              "#f0f921"
             ]
            ],
            "type": "surface"
           }
          ],
          "table": [
           {
            "cells": {
             "fill": {
              "color": "#506784"
             },
             "line": {
              "color": "rgb(17,17,17)"
             }
            },
            "header": {
             "fill": {
              "color": "#2a3f5f"
             },
             "line": {
              "color": "rgb(17,17,17)"
             }
            },
            "type": "table"
           }
          ]
         },
         "layout": {
          "annotationdefaults": {
           "arrowcolor": "#f2f5fa",
           "arrowhead": 0,
           "arrowwidth": 1
          },
          "autotypenumbers": "strict",
          "coloraxis": {
           "colorbar": {
            "outlinewidth": 0,
            "ticks": ""
           }
          },
          "colorscale": {
           "diverging": [
            [
             0,
             "#8e0152"
            ],
            [
             0.1,
             "#c51b7d"
            ],
            [
             0.2,
             "#de77ae"
            ],
            [
             0.3,
             "#f1b6da"
            ],
            [
             0.4,
             "#fde0ef"
            ],
            [
             0.5,
             "#f7f7f7"
            ],
            [
             0.6,
             "#e6f5d0"
            ],
            [
             0.7,
             "#b8e186"
            ],
            [
             0.8,
             "#7fbc41"
            ],
            [
             0.9,
             "#4d9221"
            ],
            [
             1,
             "#276419"
            ]
           ],
           "sequential": [
            [
             0,
             "#0d0887"
            ],
            [
             0.1111111111111111,
             "#46039f"
            ],
            [
             0.2222222222222222,
             "#7201a8"
            ],
            [
             0.3333333333333333,
             "#9c179e"
            ],
            [
             0.4444444444444444,
             "#bd3786"
            ],
            [
             0.5555555555555556,
             "#d8576b"
            ],
            [
             0.6666666666666666,
             "#ed7953"
            ],
            [
             0.7777777777777778,
             "#fb9f3a"
            ],
            [
             0.8888888888888888,
             "#fdca26"
            ],
            [
             1,
             "#f0f921"
            ]
           ],
           "sequentialminus": [
            [
             0,
             "#0d0887"
            ],
            [
             0.1111111111111111,
             "#46039f"
            ],
            [
             0.2222222222222222,
             "#7201a8"
            ],
            [
             0.3333333333333333,
             "#9c179e"
            ],
            [
             0.4444444444444444,
             "#bd3786"
            ],
            [
             0.5555555555555556,
             "#d8576b"
            ],
            [
             0.6666666666666666,
             "#ed7953"
            ],
            [
             0.7777777777777778,
             "#fb9f3a"
            ],
            [
             0.8888888888888888,
             "#fdca26"
            ],
            [
             1,
             "#f0f921"
            ]
           ]
          },
          "colorway": [
           "#636efa",
           "#EF553B",
           "#00cc96",
           "#ab63fa",
           "#FFA15A",
           "#19d3f3",
           "#FF6692",
           "#B6E880",
           "#FF97FF",
           "#FECB52"
          ],
          "font": {
           "color": "#f2f5fa"
          },
          "geo": {
           "bgcolor": "rgb(17,17,17)",
           "lakecolor": "rgb(17,17,17)",
           "landcolor": "rgb(17,17,17)",
           "showlakes": true,
           "showland": true,
           "subunitcolor": "#506784"
          },
          "hoverlabel": {
           "align": "left"
          },
          "hovermode": "closest",
          "mapbox": {
           "style": "dark"
          },
          "paper_bgcolor": "rgb(17,17,17)",
          "plot_bgcolor": "rgb(17,17,17)",
          "polar": {
           "angularaxis": {
            "gridcolor": "#506784",
            "linecolor": "#506784",
            "ticks": ""
           },
           "bgcolor": "rgb(17,17,17)",
           "radialaxis": {
            "gridcolor": "#506784",
            "linecolor": "#506784",
            "ticks": ""
           }
          },
          "scene": {
           "xaxis": {
            "backgroundcolor": "rgb(17,17,17)",
            "gridcolor": "#506784",
            "gridwidth": 2,
            "linecolor": "#506784",
            "showbackground": true,
            "ticks": "",
            "zerolinecolor": "#C8D4E3"
           },
           "yaxis": {
            "backgroundcolor": "rgb(17,17,17)",
            "gridcolor": "#506784",
            "gridwidth": 2,
            "linecolor": "#506784",
            "showbackground": true,
            "ticks": "",
            "zerolinecolor": "#C8D4E3"
           },
           "zaxis": {
            "backgroundcolor": "rgb(17,17,17)",
            "gridcolor": "#506784",
            "gridwidth": 2,
            "linecolor": "#506784",
            "showbackground": true,
            "ticks": "",
            "zerolinecolor": "#C8D4E3"
           }
          },
          "shapedefaults": {
           "line": {
            "color": "#f2f5fa"
           }
          },
          "sliderdefaults": {
           "bgcolor": "#C8D4E3",
           "bordercolor": "rgb(17,17,17)",
           "borderwidth": 1,
           "tickwidth": 0
          },
          "ternary": {
           "aaxis": {
            "gridcolor": "#506784",
            "linecolor": "#506784",
            "ticks": ""
           },
           "baxis": {
            "gridcolor": "#506784",
            "linecolor": "#506784",
            "ticks": ""
           },
           "bgcolor": "rgb(17,17,17)",
           "caxis": {
            "gridcolor": "#506784",
            "linecolor": "#506784",
            "ticks": ""
           }
          },
          "title": {
           "x": 0.05
          },
          "updatemenudefaults": {
           "bgcolor": "#506784",
           "borderwidth": 0
          },
          "xaxis": {
           "automargin": true,
           "gridcolor": "#283442",
           "linecolor": "#506784",
           "ticks": "",
           "title": {
            "standoff": 15
           },
           "zerolinecolor": "#283442",
           "zerolinewidth": 2
          },
          "yaxis": {
           "automargin": true,
           "gridcolor": "#283442",
           "linecolor": "#506784",
           "ticks": "",
           "title": {
            "standoff": 15
           },
           "zerolinecolor": "#283442",
           "zerolinewidth": 2
          }
         }
        },
        "title": {
         "text": "Efficient Frontier Portfolio"
        },
        "width": 1000,
        "xaxis": {
         "anchor": "y",
         "domain": [
          0,
          1
         ],
         "showspikes": true,
         "title": {
          "text": "Expected Volatility"
         }
        },
        "yaxis": {
         "anchor": "x",
         "domain": [
          0,
          1
         ],
         "showspikes": true,
         "title": {
          "text": "Expected Return"
         }
        }
       }
      },
      "text/html": [
       "<div>                            <div id=\"eb0bfd6e-e620-47e1-864f-751eec12aee2\" class=\"plotly-graph-div\" style=\"height:600px; width:1000px;\"></div>            <script type=\"text/javascript\">                require([\"plotly\"], function(Plotly) {                    window.PLOTLYENV=window.PLOTLYENV || {};                                    if (document.getElementById(\"eb0bfd6e-e620-47e1-864f-751eec12aee2\")) {                    Plotly.newPlot(                        \"eb0bfd6e-e620-47e1-864f-751eec12aee2\",                        [{\"hovertemplate\":\"Expected Volatility=%{x}<br>Expected Return=%{y}<br>Sharpe Ratio=%{marker.color}<extra></extra>\",\"legendgroup\":\"\",\"marker\":{\"color\":[0.0654,0.0927,0.1212,0.1507,0.1814,0.2131,0.2459,0.2798,0.3147,0.3505,0.3872,0.4247,0.4629,0.5017,0.5408,0.5802,0.6196,0.6589,0.6978,0.7362,0.7737,0.8103,0.8457,0.8797,0.9121,0.9429,0.9718,0.9989,1.024,1.0472,1.0683,1.0876,1.105,1.1205,1.1343,1.1464,1.157,1.1661,1.1739,1.1804,1.1858,1.1902,1.1936,1.1962,1.198,1.1991,1.1996,1.1996,1.1991,1.1982,1.1969,1.1953,1.1934,1.1913,1.189,1.1865,1.1838,1.181,1.1781,1.1751,1.1721,1.1689,1.1658,1.1626,1.1594,1.1562,1.1529,1.1497,1.1465,1.1433,1.1401,1.137,1.1338,1.1307,1.1276,1.1246,1.1216,1.1186,1.1157,1.1128,1.11,1.1072,1.1044,1.1017,1.099,1.0963,1.0937,1.0911,1.0886,1.0861,1.0837,1.0813,1.0789,1.0766,1.0743,1.072,1.0698,1.0676,1.0655,1.0634],\"coloraxis\":\"coloraxis\",\"symbol\":\"cross\"},\"mode\":\"markers\",\"name\":\"\",\"orientation\":\"v\",\"showlegend\":false,\"type\":\"scatter\",\"x\":[0.1148,0.1125,0.1102,0.1081,0.1059,0.1039,0.102,0.1001,0.0983,0.0966,0.095,0.0935,0.0921,0.0909,0.0897,0.0887,0.0877,0.087,0.0863,0.0858,0.0854,0.0852,0.0851,0.0851,0.0853,0.0856,0.0861,0.0867,0.0874,0.0883,0.0893,0.0904,0.0916,0.093,0.0944,0.096,0.0976,0.0994,0.1012,0.1031,0.1051,0.1072,0.1094,0.1116,0.1138,0.1162,0.1186,0.121,0.1235,0.126,0.1286,0.1313,0.1339,0.1366,0.1393,0.1421,0.1449,0.1477,0.1506,0.1535,0.1564,0.1593,0.1622,0.1652,0.1682,0.1712,0.1742,0.1772,0.1803,0.1833,0.1864,0.1895,0.1926,0.1958,0.1989,0.202,0.2052,0.2083,0.2115,0.2147,0.2179,0.2211,0.2243,0.2275,0.2307,0.234,0.2372,0.2404,0.2437,0.2469,0.2502,0.2535,0.2567,0.26,0.2633,0.2666,0.2699,0.2732,0.2765,0.2798],\"xaxis\":\"x\",\"y\":[0.01,0.0129,0.0159,0.0188,0.0217,0.0246,0.0276,0.0305,0.0334,0.0364,0.0393,0.0422,0.0452,0.0481,0.051,0.0539,0.0569,0.0598,0.0627,0.0657,0.0686,0.0715,0.0744,0.0774,0.0803,0.0832,0.0862,0.0891,0.092,0.0949,0.0979,0.1008,0.1037,0.1067,0.1096,0.1125,0.1155,0.1184,0.1213,0.1242,0.1272,0.1301,0.133,0.136,0.1389,0.1418,0.1447,0.1477,0.1506,0.1535,0.1565,0.1594,0.1623,0.1653,0.1682,0.1711,0.174,0.177,0.1799,0.1828,0.1858,0.1887,0.1916,0.1945,0.1975,0.2004,0.2033,0.2063,0.2092,0.2121,0.2151,0.218,0.2209,0.2238,0.2268,0.2297,0.2326,0.2356,0.2385,0.2414,0.2443,0.2473,0.2502,0.2531,0.2561,0.259,0.2619,0.2648,0.2678,0.2707,0.2736,0.2766,0.2795,0.2824,0.2854,0.2883,0.2912,0.2941,0.2971,0.3],\"yaxis\":\"y\"},{\"marker\":{\"color\":\"red\",\"size\":20,\"symbol\":\"star\"},\"mode\":\"markers\",\"name\":\"Max Sharpe\",\"type\":\"scatter\",\"x\":[0.11972541824832426],\"y\":[0.1461346947473839]}],                        {\"coloraxis\":{\"colorbar\":{\"title\":{\"text\":\"Sharpe Ratio\"}},\"colorscale\":[[0.0,\"#0d0887\"],[0.1111111111111111,\"#46039f\"],[0.2222222222222222,\"#7201a8\"],[0.3333333333333333,\"#9c179e\"],[0.4444444444444444,\"#bd3786\"],[0.5555555555555556,\"#d8576b\"],[0.6666666666666666,\"#ed7953\"],[0.7777777777777778,\"#fb9f3a\"],[0.8888888888888888,\"#fdca26\"],[1.0,\"#f0f921\"]]},\"height\":600,\"legend\":{\"tracegroupgap\":0},\"showlegend\":false,\"template\":{\"data\":{\"bar\":[{\"error_x\":{\"color\":\"#f2f5fa\"},\"error_y\":{\"color\":\"#f2f5fa\"},\"marker\":{\"line\":{\"color\":\"rgb(17,17,17)\",\"width\":0.5},\"pattern\":{\"fillmode\":\"overlay\",\"size\":10,\"solidity\":0.2}},\"type\":\"bar\"}],\"barpolar\":[{\"marker\":{\"line\":{\"color\":\"rgb(17,17,17)\",\"width\":0.5},\"pattern\":{\"fillmode\":\"overlay\",\"size\":10,\"solidity\":0.2}},\"type\":\"barpolar\"}],\"carpet\":[{\"aaxis\":{\"endlinecolor\":\"#A2B1C6\",\"gridcolor\":\"#506784\",\"linecolor\":\"#506784\",\"minorgridcolor\":\"#506784\",\"startlinecolor\":\"#A2B1C6\"},\"baxis\":{\"endlinecolor\":\"#A2B1C6\",\"gridcolor\":\"#506784\",\"linecolor\":\"#506784\",\"minorgridcolor\":\"#506784\",\"startlinecolor\":\"#A2B1C6\"},\"type\":\"carpet\"}],\"choropleth\":[{\"colorbar\":{\"outlinewidth\":0,\"ticks\":\"\"},\"type\":\"choropleth\"}],\"contour\":[{\"colorbar\":{\"outlinewidth\":0,\"ticks\":\"\"},\"colorscale\":[[0.0,\"#0d0887\"],[0.1111111111111111,\"#46039f\"],[0.2222222222222222,\"#7201a8\"],[0.3333333333333333,\"#9c179e\"],[0.4444444444444444,\"#bd3786\"],[0.5555555555555556,\"#d8576b\"],[0.6666666666666666,\"#ed7953\"],[0.7777777777777778,\"#fb9f3a\"],[0.8888888888888888,\"#fdca26\"],[1.0,\"#f0f921\"]],\"type\":\"contour\"}],\"contourcarpet\":[{\"colorbar\":{\"outlinewidth\":0,\"ticks\":\"\"},\"type\":\"contourcarpet\"}],\"heatmap\":[{\"colorbar\":{\"outlinewidth\":0,\"ticks\":\"\"},\"colorscale\":[[0.0,\"#0d0887\"],[0.1111111111111111,\"#46039f\"],[0.2222222222222222,\"#7201a8\"],[0.3333333333333333,\"#9c179e\"],[0.4444444444444444,\"#bd3786\"],[0.5555555555555556,\"#d8576b\"],[0.6666666666666666,\"#ed7953\"],[0.7777777777777778,\"#fb9f3a\"],[0.8888888888888888,\"#fdca26\"],[1.0,\"#f0f921\"]],\"type\":\"heatmap\"}],\"heatmapgl\":[{\"colorbar\":{\"outlinewidth\":0,\"ticks\":\"\"},\"colorscale\":[[0.0,\"#0d0887\"],[0.1111111111111111,\"#46039f\"],[0.2222222222222222,\"#7201a8\"],[0.3333333333333333,\"#9c179e\"],[0.4444444444444444,\"#bd3786\"],[0.5555555555555556,\"#d8576b\"],[0.6666666666666666,\"#ed7953\"],[0.7777777777777778,\"#fb9f3a\"],[0.8888888888888888,\"#fdca26\"],[1.0,\"#f0f921\"]],\"type\":\"heatmapgl\"}],\"histogram\":[{\"marker\":{\"pattern\":{\"fillmode\":\"overlay\",\"size\":10,\"solidity\":0.2}},\"type\":\"histogram\"}],\"histogram2d\":[{\"colorbar\":{\"outlinewidth\":0,\"ticks\":\"\"},\"colorscale\":[[0.0,\"#0d0887\"],[0.1111111111111111,\"#46039f\"],[0.2222222222222222,\"#7201a8\"],[0.3333333333333333,\"#9c179e\"],[0.4444444444444444,\"#bd3786\"],[0.5555555555555556,\"#d8576b\"],[0.6666666666666666,\"#ed7953\"],[0.7777777777777778,\"#fb9f3a\"],[0.8888888888888888,\"#fdca26\"],[1.0,\"#f0f921\"]],\"type\":\"histogram2d\"}],\"histogram2dcontour\":[{\"colorbar\":{\"outlinewidth\":0,\"ticks\":\"\"},\"colorscale\":[[0.0,\"#0d0887\"],[0.1111111111111111,\"#46039f\"],[0.2222222222222222,\"#7201a8\"],[0.3333333333333333,\"#9c179e\"],[0.4444444444444444,\"#bd3786\"],[0.5555555555555556,\"#d8576b\"],[0.6666666666666666,\"#ed7953\"],[0.7777777777777778,\"#fb9f3a\"],[0.8888888888888888,\"#fdca26\"],[1.0,\"#f0f921\"]],\"type\":\"histogram2dcontour\"}],\"mesh3d\":[{\"colorbar\":{\"outlinewidth\":0,\"ticks\":\"\"},\"type\":\"mesh3d\"}],\"parcoords\":[{\"line\":{\"colorbar\":{\"outlinewidth\":0,\"ticks\":\"\"}},\"type\":\"parcoords\"}],\"pie\":[{\"automargin\":true,\"type\":\"pie\"}],\"scatter\":[{\"marker\":{\"line\":{\"color\":\"#283442\"}},\"type\":\"scatter\"}],\"scatter3d\":[{\"line\":{\"colorbar\":{\"outlinewidth\":0,\"ticks\":\"\"}},\"marker\":{\"colorbar\":{\"outlinewidth\":0,\"ticks\":\"\"}},\"type\":\"scatter3d\"}],\"scattercarpet\":[{\"marker\":{\"colorbar\":{\"outlinewidth\":0,\"ticks\":\"\"}},\"type\":\"scattercarpet\"}],\"scattergeo\":[{\"marker\":{\"colorbar\":{\"outlinewidth\":0,\"ticks\":\"\"}},\"type\":\"scattergeo\"}],\"scattergl\":[{\"marker\":{\"line\":{\"color\":\"#283442\"}},\"type\":\"scattergl\"}],\"scattermapbox\":[{\"marker\":{\"colorbar\":{\"outlinewidth\":0,\"ticks\":\"\"}},\"type\":\"scattermapbox\"}],\"scatterpolar\":[{\"marker\":{\"colorbar\":{\"outlinewidth\":0,\"ticks\":\"\"}},\"type\":\"scatterpolar\"}],\"scatterpolargl\":[{\"marker\":{\"colorbar\":{\"outlinewidth\":0,\"ticks\":\"\"}},\"type\":\"scatterpolargl\"}],\"scatterternary\":[{\"marker\":{\"colorbar\":{\"outlinewidth\":0,\"ticks\":\"\"}},\"type\":\"scatterternary\"}],\"surface\":[{\"colorbar\":{\"outlinewidth\":0,\"ticks\":\"\"},\"colorscale\":[[0.0,\"#0d0887\"],[0.1111111111111111,\"#46039f\"],[0.2222222222222222,\"#7201a8\"],[0.3333333333333333,\"#9c179e\"],[0.4444444444444444,\"#bd3786\"],[0.5555555555555556,\"#d8576b\"],[0.6666666666666666,\"#ed7953\"],[0.7777777777777778,\"#fb9f3a\"],[0.8888888888888888,\"#fdca26\"],[1.0,\"#f0f921\"]],\"type\":\"surface\"}],\"table\":[{\"cells\":{\"fill\":{\"color\":\"#506784\"},\"line\":{\"color\":\"rgb(17,17,17)\"}},\"header\":{\"fill\":{\"color\":\"#2a3f5f\"},\"line\":{\"color\":\"rgb(17,17,17)\"}},\"type\":\"table\"}]},\"layout\":{\"annotationdefaults\":{\"arrowcolor\":\"#f2f5fa\",\"arrowhead\":0,\"arrowwidth\":1},\"autotypenumbers\":\"strict\",\"coloraxis\":{\"colorbar\":{\"outlinewidth\":0,\"ticks\":\"\"}},\"colorscale\":{\"diverging\":[[0,\"#8e0152\"],[0.1,\"#c51b7d\"],[0.2,\"#de77ae\"],[0.3,\"#f1b6da\"],[0.4,\"#fde0ef\"],[0.5,\"#f7f7f7\"],[0.6,\"#e6f5d0\"],[0.7,\"#b8e186\"],[0.8,\"#7fbc41\"],[0.9,\"#4d9221\"],[1,\"#276419\"]],\"sequential\":[[0.0,\"#0d0887\"],[0.1111111111111111,\"#46039f\"],[0.2222222222222222,\"#7201a8\"],[0.3333333333333333,\"#9c179e\"],[0.4444444444444444,\"#bd3786\"],[0.5555555555555556,\"#d8576b\"],[0.6666666666666666,\"#ed7953\"],[0.7777777777777778,\"#fb9f3a\"],[0.8888888888888888,\"#fdca26\"],[1.0,\"#f0f921\"]],\"sequentialminus\":[[0.0,\"#0d0887\"],[0.1111111111111111,\"#46039f\"],[0.2222222222222222,\"#7201a8\"],[0.3333333333333333,\"#9c179e\"],[0.4444444444444444,\"#bd3786\"],[0.5555555555555556,\"#d8576b\"],[0.6666666666666666,\"#ed7953\"],[0.7777777777777778,\"#fb9f3a\"],[0.8888888888888888,\"#fdca26\"],[1.0,\"#f0f921\"]]},\"colorway\":[\"#636efa\",\"#EF553B\",\"#00cc96\",\"#ab63fa\",\"#FFA15A\",\"#19d3f3\",\"#FF6692\",\"#B6E880\",\"#FF97FF\",\"#FECB52\"],\"font\":{\"color\":\"#f2f5fa\"},\"geo\":{\"bgcolor\":\"rgb(17,17,17)\",\"lakecolor\":\"rgb(17,17,17)\",\"landcolor\":\"rgb(17,17,17)\",\"showlakes\":true,\"showland\":true,\"subunitcolor\":\"#506784\"},\"hoverlabel\":{\"align\":\"left\"},\"hovermode\":\"closest\",\"mapbox\":{\"style\":\"dark\"},\"paper_bgcolor\":\"rgb(17,17,17)\",\"plot_bgcolor\":\"rgb(17,17,17)\",\"polar\":{\"angularaxis\":{\"gridcolor\":\"#506784\",\"linecolor\":\"#506784\",\"ticks\":\"\"},\"bgcolor\":\"rgb(17,17,17)\",\"radialaxis\":{\"gridcolor\":\"#506784\",\"linecolor\":\"#506784\",\"ticks\":\"\"}},\"scene\":{\"xaxis\":{\"backgroundcolor\":\"rgb(17,17,17)\",\"gridcolor\":\"#506784\",\"gridwidth\":2,\"linecolor\":\"#506784\",\"showbackground\":true,\"ticks\":\"\",\"zerolinecolor\":\"#C8D4E3\"},\"yaxis\":{\"backgroundcolor\":\"rgb(17,17,17)\",\"gridcolor\":\"#506784\",\"gridwidth\":2,\"linecolor\":\"#506784\",\"showbackground\":true,\"ticks\":\"\",\"zerolinecolor\":\"#C8D4E3\"},\"zaxis\":{\"backgroundcolor\":\"rgb(17,17,17)\",\"gridcolor\":\"#506784\",\"gridwidth\":2,\"linecolor\":\"#506784\",\"showbackground\":true,\"ticks\":\"\",\"zerolinecolor\":\"#C8D4E3\"}},\"shapedefaults\":{\"line\":{\"color\":\"#f2f5fa\"}},\"sliderdefaults\":{\"bgcolor\":\"#C8D4E3\",\"bordercolor\":\"rgb(17,17,17)\",\"borderwidth\":1,\"tickwidth\":0},\"ternary\":{\"aaxis\":{\"gridcolor\":\"#506784\",\"linecolor\":\"#506784\",\"ticks\":\"\"},\"baxis\":{\"gridcolor\":\"#506784\",\"linecolor\":\"#506784\",\"ticks\":\"\"},\"bgcolor\":\"rgb(17,17,17)\",\"caxis\":{\"gridcolor\":\"#506784\",\"linecolor\":\"#506784\",\"ticks\":\"\"}},\"title\":{\"x\":0.05},\"updatemenudefaults\":{\"bgcolor\":\"#506784\",\"borderwidth\":0},\"xaxis\":{\"automargin\":true,\"gridcolor\":\"#283442\",\"linecolor\":\"#506784\",\"ticks\":\"\",\"title\":{\"standoff\":15},\"zerolinecolor\":\"#283442\",\"zerolinewidth\":2},\"yaxis\":{\"automargin\":true,\"gridcolor\":\"#283442\",\"linecolor\":\"#506784\",\"ticks\":\"\",\"title\":{\"standoff\":15},\"zerolinecolor\":\"#283442\",\"zerolinewidth\":2}}},\"title\":{\"text\":\"Efficient Frontier Portfolio\"},\"width\":1000,\"xaxis\":{\"anchor\":\"y\",\"domain\":[0.0,1.0],\"showspikes\":true,\"title\":{\"text\":\"Expected Volatility\"}},\"yaxis\":{\"anchor\":\"x\",\"domain\":[0.0,1.0],\"showspikes\":true,\"title\":{\"text\":\"Expected Return\"}}},                        {\"responsive\": true}                    ).then(function(){\n",
       "                            \n",
       "var gd = document.getElementById('eb0bfd6e-e620-47e1-864f-751eec12aee2');\n",
       "var x = new MutationObserver(function (mutations, observer) {{\n",
       "        var display = window.getComputedStyle(gd).display;\n",
       "        if (!display || display === 'none') {{\n",
       "            console.log([gd, 'removed!']);\n",
       "            Plotly.purge(gd);\n",
       "            observer.disconnect();\n",
       "        }}\n",
       "}});\n",
       "\n",
       "// Listen for the removal of the full notebook cells\n",
       "var notebookContainer = gd.closest('#notebook-container');\n",
       "if (notebookContainer) {{\n",
       "    x.observe(notebookContainer, {childList: true});\n",
       "}}\n",
       "\n",
       "// Listen for the clearing of the current output cell\n",
       "var outputEl = gd.closest('.output');\n",
       "if (outputEl) {{\n",
       "    x.observe(outputEl, {childList: true});\n",
       "}}\n",
       "\n",
       "                        })                };                });            </script>        </div>"
      ]
     },
     "metadata": {},
     "output_type": "display_data"
    }
   ],
   "source": [
    "# Plot efficient frontier portfolio\n",
    "fig = px.scatter(\n",
    "    efport, x='targetvols', y='targetrets',  color='targetsharpe',\n",
    "    labels={'targetrets': 'Expected Return', 'targetvols': 'Expected Volatility','targetsharpe': 'Sharpe Ratio'},\n",
    "    title=\"Efficient Frontier Portfolio\"\n",
    "     ).update_traces(mode='markers', marker=dict(symbol='cross'))\n",
    "\n",
    "# Plot maximum sharpe portfolio\n",
    "fig.add_scatter(\n",
    "    mode='markers',\n",
    "    x=[tangency['vol']], \n",
    "    y=[tangency['ret']],\n",
    "    marker=dict(color='red', size=20, symbol='star'),\n",
    "    name = 'Max Sharpe'\n",
    ").update(layout_showlegend=False)\n",
    "\n",
    "# Show spikes\n",
    "fig.update_xaxes(showspikes=True)\n",
    "fig.update_yaxes(showspikes=True)\n",
    "fig.show()"
   ]
  },
  {
   "cell_type": "code",
   "execution_count": 104,
   "id": "ef8144cd",
   "metadata": {},
   "outputs": [
    {
     "data": {
      "image/png": "[encoded data removed]",
      "text/plain": [
       "<Figure size 864x720 with 1 Axes>"
      ]
     },
     "metadata": {
      "needs_background": "light"
     },
     "output_type": "display_data"
    }
   ],
   "source": [
    "# show in the github\n",
    "fig= plt.figure(figsize = (12,10))\n",
    "plt.scatter(x=efport['targetvols'], y=efport['targetrets'])\n",
    "\n",
    "plt.scatter(\n",
    "    x=[tangency['vol']], \n",
    "    y=[tangency['ret']],color = 'red',linewidths=5,marker = '^'\n",
    ")\n",
    "fig.show()"
   ]
  },
  {
   "cell_type": "code",
   "execution_count": 42,
   "id": "7c06e958",
   "metadata": {},
   "outputs": [
    {
     "data": {
      "text/html": [
       "<div>\n",
       "<style scoped>\n",
       "    .dataframe tbody tr th:only-of-type {\n",
       "        vertical-align: middle;\n",
       "    }\n",
       "\n",
       "    .dataframe tbody tr th {\n",
       "        vertical-align: top;\n",
       "    }\n",
       "\n",
       "    .dataframe thead th {\n",
       "        text-align: right;\n",
       "    }\n",
       "</style>\n",
       "<table border=\"1\" class=\"dataframe\">\n",
       "  <thead>\n",
       "    <tr style=\"text-align: right;\">\n",
       "      <th></th>\n",
       "      <th>AAPL</th>\n",
       "      <th>FB</th>\n",
       "      <th>UNH</th>\n",
       "      <th>MA</th>\n",
       "      <th>MSFT</th>\n",
       "      <th>NVDA</th>\n",
       "      <th>HD</th>\n",
       "      <th>PFE</th>\n",
       "      <th>AMZN</th>\n",
       "      <th>BRK-B</th>\n",
       "      <th>PG</th>\n",
       "      <th>XOM</th>\n",
       "      <th>TSLA</th>\n",
       "      <th>JPM</th>\n",
       "      <th>V</th>\n",
       "      <th>DIS</th>\n",
       "      <th>GOOGL</th>\n",
       "      <th>JNJ</th>\n",
       "      <th>BAC</th>\n",
       "      <th>CSCO</th>\n",
       "    </tr>\n",
       "  </thead>\n",
       "  <tbody>\n",
       "    <tr>\n",
       "      <th>Weight</th>\n",
       "      <td>-0.0607</td>\n",
       "      <td>0.0145</td>\n",
       "      <td>0.0479</td>\n",
       "      <td>0.0882</td>\n",
       "      <td>0.0844</td>\n",
       "      <td>-0.0231</td>\n",
       "      <td>-0.0032</td>\n",
       "      <td>-0.0222</td>\n",
       "      <td>0.2546</td>\n",
       "      <td>0.2499</td>\n",
       "      <td>0.0087</td>\n",
       "      <td>-0.0145</td>\n",
       "      <td>-0.0045</td>\n",
       "      <td>0.0147</td>\n",
       "      <td>-0.016</td>\n",
       "      <td>0.0264</td>\n",
       "      <td>0.0394</td>\n",
       "      <td>0.1819</td>\n",
       "      <td>0.044</td>\n",
       "      <td>0.0897</td>\n",
       "    </tr>\n",
       "  </tbody>\n",
       "</table>\n",
       "</div>"
      ],
      "text/plain": [
       "          AAPL      FB     UNH      MA    MSFT    NVDA      HD     PFE  \\\n",
       "Weight -0.0607  0.0145  0.0479  0.0882  0.0844 -0.0231 -0.0032 -0.0222   \n",
       "\n",
       "          AMZN   BRK-B      PG     XOM    TSLA     JPM      V     DIS   GOOGL  \\\n",
       "Weight  0.2546  0.2499  0.0087 -0.0145 -0.0045  0.0147 -0.016  0.0264  0.0394   \n",
       "\n",
       "           JNJ    BAC    CSCO  \n",
       "Weight  0.1819  0.044  0.0897  "
      ]
     },
     "execution_count": 42,
     "metadata": {},
     "output_type": "execute_result"
    }
   ],
   "source": [
    "round(assetWeight.T,4)"
   ]
  },
  {
   "cell_type": "markdown",
   "id": "e623e16f",
   "metadata": {},
   "source": [
    "## Conclusion 3.2\n",
    "For the tangency portfolio, which is ths super efficient portfolio, we can invest each stock in the above weight. The expected annual return is 16.53%, volatility is 12.58% with 1.2948 sharpe ratio."
   ]
  }
 ],
 "metadata": {
  "kernelspec": {
   "display_name": "Python 3",
   "language": "python",
   "name": "python3"
  },
  "language_info": {
   "codemirror_mode": {
    "name": "ipython",
    "version": 3
   },
   "file_extension": ".py",
   "mimetype": "text/x-python",
   "name": "python",
   "nbconvert_exporter": "python",
   "pygments_lexer": "ipython3",
   "version": "3.8.8"
  }
 },
 "nbformat": 4,
 "nbformat_minor": 5
}
